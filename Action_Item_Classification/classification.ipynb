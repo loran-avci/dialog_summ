{
  "nbformat": 4,
  "nbformat_minor": 0,
  "metadata": {
    "colab": {
      "name": "binaryclass",
      "provenance": [],
      "collapsed_sections": []
    },
    "kernelspec": {
      "name": "python3",
      "display_name": "Python 3"
    },
    "accelerator": "GPU",
    "widgets": {
      "application/vnd.jupyter.widget-state+json": {
        "34ebd5e9270645a383707f097e11a0d1": {
          "model_module": "@jupyter-widgets/controls",
          "model_name": "HBoxModel",
          "state": {
            "_view_name": "HBoxView",
            "_dom_classes": [],
            "_model_name": "HBoxModel",
            "_view_module": "@jupyter-widgets/controls",
            "_model_module_version": "1.5.0",
            "_view_count": null,
            "_view_module_version": "1.5.0",
            "box_style": "",
            "layout": "IPY_MODEL_01e5e3d65f5b4b0387a7ceb0d774e8fc",
            "_model_module": "@jupyter-widgets/controls",
            "children": [
              "IPY_MODEL_34442b07f18a4017bfbab8477b61dbe5",
              "IPY_MODEL_ae68b1826c3f4397826abd6d8cc22997",
              "IPY_MODEL_a9bbdb7121c24ef680c171f26ccfc89e"
            ]
          }
        },
        "01e5e3d65f5b4b0387a7ceb0d774e8fc": {
          "model_module": "@jupyter-widgets/base",
          "model_name": "LayoutModel",
          "state": {
            "_view_name": "LayoutView",
            "grid_template_rows": null,
            "right": null,
            "justify_content": null,
            "_view_module": "@jupyter-widgets/base",
            "overflow": null,
            "_model_module_version": "1.2.0",
            "_view_count": null,
            "flex_flow": null,
            "width": null,
            "min_width": null,
            "border": null,
            "align_items": null,
            "bottom": null,
            "_model_module": "@jupyter-widgets/base",
            "top": null,
            "grid_column": null,
            "overflow_y": null,
            "overflow_x": null,
            "grid_auto_flow": null,
            "grid_area": null,
            "grid_template_columns": null,
            "flex": null,
            "_model_name": "LayoutModel",
            "justify_items": null,
            "grid_row": null,
            "max_height": null,
            "align_content": null,
            "visibility": null,
            "align_self": null,
            "height": null,
            "min_height": null,
            "padding": null,
            "grid_auto_rows": null,
            "grid_gap": null,
            "max_width": null,
            "order": null,
            "_view_module_version": "1.2.0",
            "grid_template_areas": null,
            "object_position": null,
            "object_fit": null,
            "grid_auto_columns": null,
            "margin": null,
            "display": null,
            "left": null
          }
        },
        "34442b07f18a4017bfbab8477b61dbe5": {
          "model_module": "@jupyter-widgets/controls",
          "model_name": "HTMLModel",
          "state": {
            "_view_name": "HTMLView",
            "style": "IPY_MODEL_84cecde8150c40228cc5a300fbd513db",
            "_dom_classes": [],
            "description": "",
            "_model_name": "HTMLModel",
            "placeholder": "​",
            "_view_module": "@jupyter-widgets/controls",
            "_model_module_version": "1.5.0",
            "value": "100%",
            "_view_count": null,
            "_view_module_version": "1.5.0",
            "description_tooltip": null,
            "_model_module": "@jupyter-widgets/controls",
            "layout": "IPY_MODEL_bb542bf614d7433d9c983e5911f69de8"
          }
        },
        "ae68b1826c3f4397826abd6d8cc22997": {
          "model_module": "@jupyter-widgets/controls",
          "model_name": "FloatProgressModel",
          "state": {
            "_view_name": "ProgressView",
            "style": "IPY_MODEL_6c29bcd448844941a0380ce47cbaf1ce",
            "_dom_classes": [],
            "description": "",
            "_model_name": "FloatProgressModel",
            "bar_style": "success",
            "max": 16824,
            "_view_module": "@jupyter-widgets/controls",
            "_model_module_version": "1.5.0",
            "value": 16824,
            "_view_count": null,
            "_view_module_version": "1.5.0",
            "orientation": "horizontal",
            "min": 0,
            "description_tooltip": null,
            "_model_module": "@jupyter-widgets/controls",
            "layout": "IPY_MODEL_d08b60e49f4741b8b7be3cd709856791"
          }
        },
        "a9bbdb7121c24ef680c171f26ccfc89e": {
          "model_module": "@jupyter-widgets/controls",
          "model_name": "HTMLModel",
          "state": {
            "_view_name": "HTMLView",
            "style": "IPY_MODEL_ec784530084d405abb340d9051309369",
            "_dom_classes": [],
            "description": "",
            "_model_name": "HTMLModel",
            "placeholder": "​",
            "_view_module": "@jupyter-widgets/controls",
            "_model_module_version": "1.5.0",
            "value": " 16824/16824 [14:17&lt;00:00, 19.61it/s]",
            "_view_count": null,
            "_view_module_version": "1.5.0",
            "description_tooltip": null,
            "_model_module": "@jupyter-widgets/controls",
            "layout": "IPY_MODEL_3d7cc961c8204bc0a2c16423d9ed2b46"
          }
        },
        "84cecde8150c40228cc5a300fbd513db": {
          "model_module": "@jupyter-widgets/controls",
          "model_name": "DescriptionStyleModel",
          "state": {
            "_view_name": "StyleView",
            "_model_name": "DescriptionStyleModel",
            "description_width": "",
            "_view_module": "@jupyter-widgets/base",
            "_model_module_version": "1.5.0",
            "_view_count": null,
            "_view_module_version": "1.2.0",
            "_model_module": "@jupyter-widgets/controls"
          }
        },
        "bb542bf614d7433d9c983e5911f69de8": {
          "model_module": "@jupyter-widgets/base",
          "model_name": "LayoutModel",
          "state": {
            "_view_name": "LayoutView",
            "grid_template_rows": null,
            "right": null,
            "justify_content": null,
            "_view_module": "@jupyter-widgets/base",
            "overflow": null,
            "_model_module_version": "1.2.0",
            "_view_count": null,
            "flex_flow": null,
            "width": null,
            "min_width": null,
            "border": null,
            "align_items": null,
            "bottom": null,
            "_model_module": "@jupyter-widgets/base",
            "top": null,
            "grid_column": null,
            "overflow_y": null,
            "overflow_x": null,
            "grid_auto_flow": null,
            "grid_area": null,
            "grid_template_columns": null,
            "flex": null,
            "_model_name": "LayoutModel",
            "justify_items": null,
            "grid_row": null,
            "max_height": null,
            "align_content": null,
            "visibility": null,
            "align_self": null,
            "height": null,
            "min_height": null,
            "padding": null,
            "grid_auto_rows": null,
            "grid_gap": null,
            "max_width": null,
            "order": null,
            "_view_module_version": "1.2.0",
            "grid_template_areas": null,
            "object_position": null,
            "object_fit": null,
            "grid_auto_columns": null,
            "margin": null,
            "display": null,
            "left": null
          }
        },
        "6c29bcd448844941a0380ce47cbaf1ce": {
          "model_module": "@jupyter-widgets/controls",
          "model_name": "ProgressStyleModel",
          "state": {
            "_view_name": "StyleView",
            "_model_name": "ProgressStyleModel",
            "description_width": "",
            "_view_module": "@jupyter-widgets/base",
            "_model_module_version": "1.5.0",
            "_view_count": null,
            "_view_module_version": "1.2.0",
            "bar_color": null,
            "_model_module": "@jupyter-widgets/controls"
          }
        },
        "d08b60e49f4741b8b7be3cd709856791": {
          "model_module": "@jupyter-widgets/base",
          "model_name": "LayoutModel",
          "state": {
            "_view_name": "LayoutView",
            "grid_template_rows": null,
            "right": null,
            "justify_content": null,
            "_view_module": "@jupyter-widgets/base",
            "overflow": null,
            "_model_module_version": "1.2.0",
            "_view_count": null,
            "flex_flow": null,
            "width": null,
            "min_width": null,
            "border": null,
            "align_items": null,
            "bottom": null,
            "_model_module": "@jupyter-widgets/base",
            "top": null,
            "grid_column": null,
            "overflow_y": null,
            "overflow_x": null,
            "grid_auto_flow": null,
            "grid_area": null,
            "grid_template_columns": null,
            "flex": null,
            "_model_name": "LayoutModel",
            "justify_items": null,
            "grid_row": null,
            "max_height": null,
            "align_content": null,
            "visibility": null,
            "align_self": null,
            "height": null,
            "min_height": null,
            "padding": null,
            "grid_auto_rows": null,
            "grid_gap": null,
            "max_width": null,
            "order": null,
            "_view_module_version": "1.2.0",
            "grid_template_areas": null,
            "object_position": null,
            "object_fit": null,
            "grid_auto_columns": null,
            "margin": null,
            "display": null,
            "left": null
          }
        },
        "ec784530084d405abb340d9051309369": {
          "model_module": "@jupyter-widgets/controls",
          "model_name": "DescriptionStyleModel",
          "state": {
            "_view_name": "StyleView",
            "_model_name": "DescriptionStyleModel",
            "description_width": "",
            "_view_module": "@jupyter-widgets/base",
            "_model_module_version": "1.5.0",
            "_view_count": null,
            "_view_module_version": "1.2.0",
            "_model_module": "@jupyter-widgets/controls"
          }
        },
        "3d7cc961c8204bc0a2c16423d9ed2b46": {
          "model_module": "@jupyter-widgets/base",
          "model_name": "LayoutModel",
          "state": {
            "_view_name": "LayoutView",
            "grid_template_rows": null,
            "right": null,
            "justify_content": null,
            "_view_module": "@jupyter-widgets/base",
            "overflow": null,
            "_model_module_version": "1.2.0",
            "_view_count": null,
            "flex_flow": null,
            "width": null,
            "min_width": null,
            "border": null,
            "align_items": null,
            "bottom": null,
            "_model_module": "@jupyter-widgets/base",
            "top": null,
            "grid_column": null,
            "overflow_y": null,
            "overflow_x": null,
            "grid_auto_flow": null,
            "grid_area": null,
            "grid_template_columns": null,
            "flex": null,
            "_model_name": "LayoutModel",
            "justify_items": null,
            "grid_row": null,
            "max_height": null,
            "align_content": null,
            "visibility": null,
            "align_self": null,
            "height": null,
            "min_height": null,
            "padding": null,
            "grid_auto_rows": null,
            "grid_gap": null,
            "max_width": null,
            "order": null,
            "_view_module_version": "1.2.0",
            "grid_template_areas": null,
            "object_position": null,
            "object_fit": null,
            "grid_auto_columns": null,
            "margin": null,
            "display": null,
            "left": null
          }
        },
        "57ce5f95f149469fb22a35aaf415c57d": {
          "model_module": "@jupyter-widgets/controls",
          "model_name": "HBoxModel",
          "state": {
            "_view_name": "HBoxView",
            "_dom_classes": [],
            "_model_name": "HBoxModel",
            "_view_module": "@jupyter-widgets/controls",
            "_model_module_version": "1.5.0",
            "_view_count": null,
            "_view_module_version": "1.5.0",
            "box_style": "",
            "layout": "IPY_MODEL_36db68b1170f4988a8507c3ec18ef947",
            "_model_module": "@jupyter-widgets/controls",
            "children": [
              "IPY_MODEL_8cc79b9ec970403983575f3683983aa7",
              "IPY_MODEL_ba574485b83241748e4d7b3c45c0b79e",
              "IPY_MODEL_83cf9294847e4e59822039f3622b1cde"
            ]
          }
        },
        "36db68b1170f4988a8507c3ec18ef947": {
          "model_module": "@jupyter-widgets/base",
          "model_name": "LayoutModel",
          "state": {
            "_view_name": "LayoutView",
            "grid_template_rows": null,
            "right": null,
            "justify_content": null,
            "_view_module": "@jupyter-widgets/base",
            "overflow": null,
            "_model_module_version": "1.2.0",
            "_view_count": null,
            "flex_flow": null,
            "width": null,
            "min_width": null,
            "border": null,
            "align_items": null,
            "bottom": null,
            "_model_module": "@jupyter-widgets/base",
            "top": null,
            "grid_column": null,
            "overflow_y": null,
            "overflow_x": null,
            "grid_auto_flow": null,
            "grid_area": null,
            "grid_template_columns": null,
            "flex": null,
            "_model_name": "LayoutModel",
            "justify_items": null,
            "grid_row": null,
            "max_height": null,
            "align_content": null,
            "visibility": null,
            "align_self": null,
            "height": null,
            "min_height": null,
            "padding": null,
            "grid_auto_rows": null,
            "grid_gap": null,
            "max_width": null,
            "order": null,
            "_view_module_version": "1.2.0",
            "grid_template_areas": null,
            "object_position": null,
            "object_fit": null,
            "grid_auto_columns": null,
            "margin": null,
            "display": null,
            "left": null
          }
        },
        "8cc79b9ec970403983575f3683983aa7": {
          "model_module": "@jupyter-widgets/controls",
          "model_name": "HTMLModel",
          "state": {
            "_view_name": "HTMLView",
            "style": "IPY_MODEL_ac68c9dcc5d34b09b071a59f5759b758",
            "_dom_classes": [],
            "description": "",
            "_model_name": "HTMLModel",
            "placeholder": "​",
            "_view_module": "@jupyter-widgets/controls",
            "_model_module_version": "1.5.0",
            "value": "Epoch 1 of 1: 100%",
            "_view_count": null,
            "_view_module_version": "1.5.0",
            "description_tooltip": null,
            "_model_module": "@jupyter-widgets/controls",
            "layout": "IPY_MODEL_4b13585687b845c0bd71f38b749560ee"
          }
        },
        "ba574485b83241748e4d7b3c45c0b79e": {
          "model_module": "@jupyter-widgets/controls",
          "model_name": "FloatProgressModel",
          "state": {
            "_view_name": "ProgressView",
            "style": "IPY_MODEL_f8393af9d83d420895d4effeae356035",
            "_dom_classes": [],
            "description": "",
            "_model_name": "FloatProgressModel",
            "bar_style": "success",
            "max": 1,
            "_view_module": "@jupyter-widgets/controls",
            "_model_module_version": "1.5.0",
            "value": 1,
            "_view_count": null,
            "_view_module_version": "1.5.0",
            "orientation": "horizontal",
            "min": 0,
            "description_tooltip": null,
            "_model_module": "@jupyter-widgets/controls",
            "layout": "IPY_MODEL_b4cabe7466dc443db0a555244fbd78d5"
          }
        },
        "83cf9294847e4e59822039f3622b1cde": {
          "model_module": "@jupyter-widgets/controls",
          "model_name": "HTMLModel",
          "state": {
            "_view_name": "HTMLView",
            "style": "IPY_MODEL_05845af52bfe472faa7d7424b45b0e25",
            "_dom_classes": [],
            "description": "",
            "_model_name": "HTMLModel",
            "placeholder": "​",
            "_view_module": "@jupyter-widgets/controls",
            "_model_module_version": "1.5.0",
            "value": " 1/1 [14:00&lt;00:00, 840.67s/it]",
            "_view_count": null,
            "_view_module_version": "1.5.0",
            "description_tooltip": null,
            "_model_module": "@jupyter-widgets/controls",
            "layout": "IPY_MODEL_ee103ca0c217487fb495d25128d0f9ae"
          }
        },
        "ac68c9dcc5d34b09b071a59f5759b758": {
          "model_module": "@jupyter-widgets/controls",
          "model_name": "DescriptionStyleModel",
          "state": {
            "_view_name": "StyleView",
            "_model_name": "DescriptionStyleModel",
            "description_width": "",
            "_view_module": "@jupyter-widgets/base",
            "_model_module_version": "1.5.0",
            "_view_count": null,
            "_view_module_version": "1.2.0",
            "_model_module": "@jupyter-widgets/controls"
          }
        },
        "4b13585687b845c0bd71f38b749560ee": {
          "model_module": "@jupyter-widgets/base",
          "model_name": "LayoutModel",
          "state": {
            "_view_name": "LayoutView",
            "grid_template_rows": null,
            "right": null,
            "justify_content": null,
            "_view_module": "@jupyter-widgets/base",
            "overflow": null,
            "_model_module_version": "1.2.0",
            "_view_count": null,
            "flex_flow": null,
            "width": null,
            "min_width": null,
            "border": null,
            "align_items": null,
            "bottom": null,
            "_model_module": "@jupyter-widgets/base",
            "top": null,
            "grid_column": null,
            "overflow_y": null,
            "overflow_x": null,
            "grid_auto_flow": null,
            "grid_area": null,
            "grid_template_columns": null,
            "flex": null,
            "_model_name": "LayoutModel",
            "justify_items": null,
            "grid_row": null,
            "max_height": null,
            "align_content": null,
            "visibility": null,
            "align_self": null,
            "height": null,
            "min_height": null,
            "padding": null,
            "grid_auto_rows": null,
            "grid_gap": null,
            "max_width": null,
            "order": null,
            "_view_module_version": "1.2.0",
            "grid_template_areas": null,
            "object_position": null,
            "object_fit": null,
            "grid_auto_columns": null,
            "margin": null,
            "display": null,
            "left": null
          }
        },
        "f8393af9d83d420895d4effeae356035": {
          "model_module": "@jupyter-widgets/controls",
          "model_name": "ProgressStyleModel",
          "state": {
            "_view_name": "StyleView",
            "_model_name": "ProgressStyleModel",
            "description_width": "",
            "_view_module": "@jupyter-widgets/base",
            "_model_module_version": "1.5.0",
            "_view_count": null,
            "_view_module_version": "1.2.0",
            "bar_color": null,
            "_model_module": "@jupyter-widgets/controls"
          }
        },
        "b4cabe7466dc443db0a555244fbd78d5": {
          "model_module": "@jupyter-widgets/base",
          "model_name": "LayoutModel",
          "state": {
            "_view_name": "LayoutView",
            "grid_template_rows": null,
            "right": null,
            "justify_content": null,
            "_view_module": "@jupyter-widgets/base",
            "overflow": null,
            "_model_module_version": "1.2.0",
            "_view_count": null,
            "flex_flow": null,
            "width": null,
            "min_width": null,
            "border": null,
            "align_items": null,
            "bottom": null,
            "_model_module": "@jupyter-widgets/base",
            "top": null,
            "grid_column": null,
            "overflow_y": null,
            "overflow_x": null,
            "grid_auto_flow": null,
            "grid_area": null,
            "grid_template_columns": null,
            "flex": null,
            "_model_name": "LayoutModel",
            "justify_items": null,
            "grid_row": null,
            "max_height": null,
            "align_content": null,
            "visibility": null,
            "align_self": null,
            "height": null,
            "min_height": null,
            "padding": null,
            "grid_auto_rows": null,
            "grid_gap": null,
            "max_width": null,
            "order": null,
            "_view_module_version": "1.2.0",
            "grid_template_areas": null,
            "object_position": null,
            "object_fit": null,
            "grid_auto_columns": null,
            "margin": null,
            "display": null,
            "left": null
          }
        },
        "05845af52bfe472faa7d7424b45b0e25": {
          "model_module": "@jupyter-widgets/controls",
          "model_name": "DescriptionStyleModel",
          "state": {
            "_view_name": "StyleView",
            "_model_name": "DescriptionStyleModel",
            "description_width": "",
            "_view_module": "@jupyter-widgets/base",
            "_model_module_version": "1.5.0",
            "_view_count": null,
            "_view_module_version": "1.2.0",
            "_model_module": "@jupyter-widgets/controls"
          }
        },
        "ee103ca0c217487fb495d25128d0f9ae": {
          "model_module": "@jupyter-widgets/base",
          "model_name": "LayoutModel",
          "state": {
            "_view_name": "LayoutView",
            "grid_template_rows": null,
            "right": null,
            "justify_content": null,
            "_view_module": "@jupyter-widgets/base",
            "overflow": null,
            "_model_module_version": "1.2.0",
            "_view_count": null,
            "flex_flow": null,
            "width": null,
            "min_width": null,
            "border": null,
            "align_items": null,
            "bottom": null,
            "_model_module": "@jupyter-widgets/base",
            "top": null,
            "grid_column": null,
            "overflow_y": null,
            "overflow_x": null,
            "grid_auto_flow": null,
            "grid_area": null,
            "grid_template_columns": null,
            "flex": null,
            "_model_name": "LayoutModel",
            "justify_items": null,
            "grid_row": null,
            "max_height": null,
            "align_content": null,
            "visibility": null,
            "align_self": null,
            "height": null,
            "min_height": null,
            "padding": null,
            "grid_auto_rows": null,
            "grid_gap": null,
            "max_width": null,
            "order": null,
            "_view_module_version": "1.2.0",
            "grid_template_areas": null,
            "object_position": null,
            "object_fit": null,
            "grid_auto_columns": null,
            "margin": null,
            "display": null,
            "left": null
          }
        },
        "18760a82b3ee4b4a9aadba7808bcb22d": {
          "model_module": "@jupyter-widgets/controls",
          "model_name": "HBoxModel",
          "state": {
            "_view_name": "HBoxView",
            "_dom_classes": [],
            "_model_name": "HBoxModel",
            "_view_module": "@jupyter-widgets/controls",
            "_model_module_version": "1.5.0",
            "_view_count": null,
            "_view_module_version": "1.5.0",
            "box_style": "",
            "layout": "IPY_MODEL_29b391c5f2c44f87aadc30f503577077",
            "_model_module": "@jupyter-widgets/controls",
            "children": [
              "IPY_MODEL_cf8ed7e7258147ca9496e19e24bce54d",
              "IPY_MODEL_60d51b6b1c2245fa95ff2aadced05111",
              "IPY_MODEL_4f2b488291164909aa85c5cddc96c9c1"
            ]
          }
        },
        "29b391c5f2c44f87aadc30f503577077": {
          "model_module": "@jupyter-widgets/base",
          "model_name": "LayoutModel",
          "state": {
            "_view_name": "LayoutView",
            "grid_template_rows": null,
            "right": null,
            "justify_content": null,
            "_view_module": "@jupyter-widgets/base",
            "overflow": null,
            "_model_module_version": "1.2.0",
            "_view_count": null,
            "flex_flow": null,
            "width": null,
            "min_width": null,
            "border": null,
            "align_items": null,
            "bottom": null,
            "_model_module": "@jupyter-widgets/base",
            "top": null,
            "grid_column": null,
            "overflow_y": null,
            "overflow_x": null,
            "grid_auto_flow": null,
            "grid_area": null,
            "grid_template_columns": null,
            "flex": null,
            "_model_name": "LayoutModel",
            "justify_items": null,
            "grid_row": null,
            "max_height": null,
            "align_content": null,
            "visibility": null,
            "align_self": null,
            "height": null,
            "min_height": null,
            "padding": null,
            "grid_auto_rows": null,
            "grid_gap": null,
            "max_width": null,
            "order": null,
            "_view_module_version": "1.2.0",
            "grid_template_areas": null,
            "object_position": null,
            "object_fit": null,
            "grid_auto_columns": null,
            "margin": null,
            "display": null,
            "left": null
          }
        },
        "cf8ed7e7258147ca9496e19e24bce54d": {
          "model_module": "@jupyter-widgets/controls",
          "model_name": "HTMLModel",
          "state": {
            "_view_name": "HTMLView",
            "style": "IPY_MODEL_d99a77c507bc4ca79f883ba9274af417",
            "_dom_classes": [],
            "description": "",
            "_model_name": "HTMLModel",
            "placeholder": "​",
            "_view_module": "@jupyter-widgets/controls",
            "_model_module_version": "1.5.0",
            "value": "Epochs 0/1. Running Loss:    0.0005: 100%",
            "_view_count": null,
            "_view_module_version": "1.5.0",
            "description_tooltip": null,
            "_model_module": "@jupyter-widgets/controls",
            "layout": "IPY_MODEL_11588cd9b2634d25b4095bec7899c53b"
          }
        },
        "60d51b6b1c2245fa95ff2aadced05111": {
          "model_module": "@jupyter-widgets/controls",
          "model_name": "FloatProgressModel",
          "state": {
            "_view_name": "ProgressView",
            "style": "IPY_MODEL_210e5c1b2450471090016de0b2b1217e",
            "_dom_classes": [],
            "description": "",
            "_model_name": "FloatProgressModel",
            "bar_style": "success",
            "max": 2103,
            "_view_module": "@jupyter-widgets/controls",
            "_model_module_version": "1.5.0",
            "value": 2103,
            "_view_count": null,
            "_view_module_version": "1.5.0",
            "orientation": "horizontal",
            "min": 0,
            "description_tooltip": null,
            "_model_module": "@jupyter-widgets/controls",
            "layout": "IPY_MODEL_8685dd02cd8a43f68ee52f7dbc040f89"
          }
        },
        "4f2b488291164909aa85c5cddc96c9c1": {
          "model_module": "@jupyter-widgets/controls",
          "model_name": "HTMLModel",
          "state": {
            "_view_name": "HTMLView",
            "style": "IPY_MODEL_d2eae230078342908899e837b7f877bf",
            "_dom_classes": [],
            "description": "",
            "_model_name": "HTMLModel",
            "placeholder": "​",
            "_view_module": "@jupyter-widgets/controls",
            "_model_module_version": "1.5.0",
            "value": " 2103/2103 [13:59&lt;00:00,  2.51it/s]",
            "_view_count": null,
            "_view_module_version": "1.5.0",
            "description_tooltip": null,
            "_model_module": "@jupyter-widgets/controls",
            "layout": "IPY_MODEL_5074b48c2e0f47e7b5d3fd1c8343c2c0"
          }
        },
        "d99a77c507bc4ca79f883ba9274af417": {
          "model_module": "@jupyter-widgets/controls",
          "model_name": "DescriptionStyleModel",
          "state": {
            "_view_name": "StyleView",
            "_model_name": "DescriptionStyleModel",
            "description_width": "",
            "_view_module": "@jupyter-widgets/base",
            "_model_module_version": "1.5.0",
            "_view_count": null,
            "_view_module_version": "1.2.0",
            "_model_module": "@jupyter-widgets/controls"
          }
        },
        "11588cd9b2634d25b4095bec7899c53b": {
          "model_module": "@jupyter-widgets/base",
          "model_name": "LayoutModel",
          "state": {
            "_view_name": "LayoutView",
            "grid_template_rows": null,
            "right": null,
            "justify_content": null,
            "_view_module": "@jupyter-widgets/base",
            "overflow": null,
            "_model_module_version": "1.2.0",
            "_view_count": null,
            "flex_flow": null,
            "width": null,
            "min_width": null,
            "border": null,
            "align_items": null,
            "bottom": null,
            "_model_module": "@jupyter-widgets/base",
            "top": null,
            "grid_column": null,
            "overflow_y": null,
            "overflow_x": null,
            "grid_auto_flow": null,
            "grid_area": null,
            "grid_template_columns": null,
            "flex": null,
            "_model_name": "LayoutModel",
            "justify_items": null,
            "grid_row": null,
            "max_height": null,
            "align_content": null,
            "visibility": null,
            "align_self": null,
            "height": null,
            "min_height": null,
            "padding": null,
            "grid_auto_rows": null,
            "grid_gap": null,
            "max_width": null,
            "order": null,
            "_view_module_version": "1.2.0",
            "grid_template_areas": null,
            "object_position": null,
            "object_fit": null,
            "grid_auto_columns": null,
            "margin": null,
            "display": null,
            "left": null
          }
        },
        "210e5c1b2450471090016de0b2b1217e": {
          "model_module": "@jupyter-widgets/controls",
          "model_name": "ProgressStyleModel",
          "state": {
            "_view_name": "StyleView",
            "_model_name": "ProgressStyleModel",
            "description_width": "",
            "_view_module": "@jupyter-widgets/base",
            "_model_module_version": "1.5.0",
            "_view_count": null,
            "_view_module_version": "1.2.0",
            "bar_color": null,
            "_model_module": "@jupyter-widgets/controls"
          }
        },
        "8685dd02cd8a43f68ee52f7dbc040f89": {
          "model_module": "@jupyter-widgets/base",
          "model_name": "LayoutModel",
          "state": {
            "_view_name": "LayoutView",
            "grid_template_rows": null,
            "right": null,
            "justify_content": null,
            "_view_module": "@jupyter-widgets/base",
            "overflow": null,
            "_model_module_version": "1.2.0",
            "_view_count": null,
            "flex_flow": null,
            "width": null,
            "min_width": null,
            "border": null,
            "align_items": null,
            "bottom": null,
            "_model_module": "@jupyter-widgets/base",
            "top": null,
            "grid_column": null,
            "overflow_y": null,
            "overflow_x": null,
            "grid_auto_flow": null,
            "grid_area": null,
            "grid_template_columns": null,
            "flex": null,
            "_model_name": "LayoutModel",
            "justify_items": null,
            "grid_row": null,
            "max_height": null,
            "align_content": null,
            "visibility": null,
            "align_self": null,
            "height": null,
            "min_height": null,
            "padding": null,
            "grid_auto_rows": null,
            "grid_gap": null,
            "max_width": null,
            "order": null,
            "_view_module_version": "1.2.0",
            "grid_template_areas": null,
            "object_position": null,
            "object_fit": null,
            "grid_auto_columns": null,
            "margin": null,
            "display": null,
            "left": null
          }
        },
        "d2eae230078342908899e837b7f877bf": {
          "model_module": "@jupyter-widgets/controls",
          "model_name": "DescriptionStyleModel",
          "state": {
            "_view_name": "StyleView",
            "_model_name": "DescriptionStyleModel",
            "description_width": "",
            "_view_module": "@jupyter-widgets/base",
            "_model_module_version": "1.5.0",
            "_view_count": null,
            "_view_module_version": "1.2.0",
            "_model_module": "@jupyter-widgets/controls"
          }
        },
        "5074b48c2e0f47e7b5d3fd1c8343c2c0": {
          "model_module": "@jupyter-widgets/base",
          "model_name": "LayoutModel",
          "state": {
            "_view_name": "LayoutView",
            "grid_template_rows": null,
            "right": null,
            "justify_content": null,
            "_view_module": "@jupyter-widgets/base",
            "overflow": null,
            "_model_module_version": "1.2.0",
            "_view_count": null,
            "flex_flow": null,
            "width": null,
            "min_width": null,
            "border": null,
            "align_items": null,
            "bottom": null,
            "_model_module": "@jupyter-widgets/base",
            "top": null,
            "grid_column": null,
            "overflow_y": null,
            "overflow_x": null,
            "grid_auto_flow": null,
            "grid_area": null,
            "grid_template_columns": null,
            "flex": null,
            "_model_name": "LayoutModel",
            "justify_items": null,
            "grid_row": null,
            "max_height": null,
            "align_content": null,
            "visibility": null,
            "align_self": null,
            "height": null,
            "min_height": null,
            "padding": null,
            "grid_auto_rows": null,
            "grid_gap": null,
            "max_width": null,
            "order": null,
            "_view_module_version": "1.2.0",
            "grid_template_areas": null,
            "object_position": null,
            "object_fit": null,
            "grid_auto_columns": null,
            "margin": null,
            "display": null,
            "left": null
          }
        },
        "668d0ab96bd141b285d36ed39166bb26": {
          "model_module": "@jupyter-widgets/controls",
          "model_name": "HBoxModel",
          "state": {
            "_view_name": "HBoxView",
            "_dom_classes": [],
            "_model_name": "HBoxModel",
            "_view_module": "@jupyter-widgets/controls",
            "_model_module_version": "1.5.0",
            "_view_count": null,
            "_view_module_version": "1.5.0",
            "box_style": "",
            "layout": "IPY_MODEL_3afd4f7204c44116999e60c7bba62d66",
            "_model_module": "@jupyter-widgets/controls",
            "children": [
              "IPY_MODEL_dc25d9233a9b452aa0520a23c762e92d",
              "IPY_MODEL_83ed95c63b8e459eabab3510166ea786",
              "IPY_MODEL_7effcb5557304abb8b1212bc53e891e3"
            ]
          }
        },
        "3afd4f7204c44116999e60c7bba62d66": {
          "model_module": "@jupyter-widgets/base",
          "model_name": "LayoutModel",
          "state": {
            "_view_name": "LayoutView",
            "grid_template_rows": null,
            "right": null,
            "justify_content": null,
            "_view_module": "@jupyter-widgets/base",
            "overflow": null,
            "_model_module_version": "1.2.0",
            "_view_count": null,
            "flex_flow": null,
            "width": null,
            "min_width": null,
            "border": null,
            "align_items": null,
            "bottom": null,
            "_model_module": "@jupyter-widgets/base",
            "top": null,
            "grid_column": null,
            "overflow_y": null,
            "overflow_x": null,
            "grid_auto_flow": null,
            "grid_area": null,
            "grid_template_columns": null,
            "flex": null,
            "_model_name": "LayoutModel",
            "justify_items": null,
            "grid_row": null,
            "max_height": null,
            "align_content": null,
            "visibility": null,
            "align_self": null,
            "height": null,
            "min_height": null,
            "padding": null,
            "grid_auto_rows": null,
            "grid_gap": null,
            "max_width": null,
            "order": null,
            "_view_module_version": "1.2.0",
            "grid_template_areas": null,
            "object_position": null,
            "object_fit": null,
            "grid_auto_columns": null,
            "margin": null,
            "display": null,
            "left": null
          }
        },
        "dc25d9233a9b452aa0520a23c762e92d": {
          "model_module": "@jupyter-widgets/controls",
          "model_name": "HTMLModel",
          "state": {
            "_view_name": "HTMLView",
            "style": "IPY_MODEL_b0e5eed25c264b21b201b90a8c57e6d3",
            "_dom_classes": [],
            "description": "",
            "_model_name": "HTMLModel",
            "placeholder": "​",
            "_view_module": "@jupyter-widgets/controls",
            "_model_module_version": "1.5.0",
            "value": "100%",
            "_view_count": null,
            "_view_module_version": "1.5.0",
            "description_tooltip": null,
            "_model_module": "@jupyter-widgets/controls",
            "layout": "IPY_MODEL_28c4f1f8eab14ab0830d1f55c8df4369"
          }
        },
        "83ed95c63b8e459eabab3510166ea786": {
          "model_module": "@jupyter-widgets/controls",
          "model_name": "FloatProgressModel",
          "state": {
            "_view_name": "ProgressView",
            "style": "IPY_MODEL_fb7b6e9b3c214c70975374a9e7322af6",
            "_dom_classes": [],
            "description": "",
            "_model_name": "FloatProgressModel",
            "bar_style": "success",
            "max": 4207,
            "_view_module": "@jupyter-widgets/controls",
            "_model_module_version": "1.5.0",
            "value": 4207,
            "_view_count": null,
            "_view_module_version": "1.5.0",
            "orientation": "horizontal",
            "min": 0,
            "description_tooltip": null,
            "_model_module": "@jupyter-widgets/controls",
            "layout": "IPY_MODEL_980cd63b295e41efb655e7efcb1be771"
          }
        },
        "7effcb5557304abb8b1212bc53e891e3": {
          "model_module": "@jupyter-widgets/controls",
          "model_name": "HTMLModel",
          "state": {
            "_view_name": "HTMLView",
            "style": "IPY_MODEL_7ae913c3cd5d40ecb0936f2148135a6a",
            "_dom_classes": [],
            "description": "",
            "_model_name": "HTMLModel",
            "placeholder": "​",
            "_view_module": "@jupyter-widgets/controls",
            "_model_module_version": "1.5.0",
            "value": " 4207/4207 [00:02&lt;00:00, 1886.30it/s]",
            "_view_count": null,
            "_view_module_version": "1.5.0",
            "description_tooltip": null,
            "_model_module": "@jupyter-widgets/controls",
            "layout": "IPY_MODEL_7d7bb59ebb2a429282438d8ae70309b8"
          }
        },
        "b0e5eed25c264b21b201b90a8c57e6d3": {
          "model_module": "@jupyter-widgets/controls",
          "model_name": "DescriptionStyleModel",
          "state": {
            "_view_name": "StyleView",
            "_model_name": "DescriptionStyleModel",
            "description_width": "",
            "_view_module": "@jupyter-widgets/base",
            "_model_module_version": "1.5.0",
            "_view_count": null,
            "_view_module_version": "1.2.0",
            "_model_module": "@jupyter-widgets/controls"
          }
        },
        "28c4f1f8eab14ab0830d1f55c8df4369": {
          "model_module": "@jupyter-widgets/base",
          "model_name": "LayoutModel",
          "state": {
            "_view_name": "LayoutView",
            "grid_template_rows": null,
            "right": null,
            "justify_content": null,
            "_view_module": "@jupyter-widgets/base",
            "overflow": null,
            "_model_module_version": "1.2.0",
            "_view_count": null,
            "flex_flow": null,
            "width": null,
            "min_width": null,
            "border": null,
            "align_items": null,
            "bottom": null,
            "_model_module": "@jupyter-widgets/base",
            "top": null,
            "grid_column": null,
            "overflow_y": null,
            "overflow_x": null,
            "grid_auto_flow": null,
            "grid_area": null,
            "grid_template_columns": null,
            "flex": null,
            "_model_name": "LayoutModel",
            "justify_items": null,
            "grid_row": null,
            "max_height": null,
            "align_content": null,
            "visibility": null,
            "align_self": null,
            "height": null,
            "min_height": null,
            "padding": null,
            "grid_auto_rows": null,
            "grid_gap": null,
            "max_width": null,
            "order": null,
            "_view_module_version": "1.2.0",
            "grid_template_areas": null,
            "object_position": null,
            "object_fit": null,
            "grid_auto_columns": null,
            "margin": null,
            "display": null,
            "left": null
          }
        },
        "fb7b6e9b3c214c70975374a9e7322af6": {
          "model_module": "@jupyter-widgets/controls",
          "model_name": "ProgressStyleModel",
          "state": {
            "_view_name": "StyleView",
            "_model_name": "ProgressStyleModel",
            "description_width": "",
            "_view_module": "@jupyter-widgets/base",
            "_model_module_version": "1.5.0",
            "_view_count": null,
            "_view_module_version": "1.2.0",
            "bar_color": null,
            "_model_module": "@jupyter-widgets/controls"
          }
        },
        "980cd63b295e41efb655e7efcb1be771": {
          "model_module": "@jupyter-widgets/base",
          "model_name": "LayoutModel",
          "state": {
            "_view_name": "LayoutView",
            "grid_template_rows": null,
            "right": null,
            "justify_content": null,
            "_view_module": "@jupyter-widgets/base",
            "overflow": null,
            "_model_module_version": "1.2.0",
            "_view_count": null,
            "flex_flow": null,
            "width": null,
            "min_width": null,
            "border": null,
            "align_items": null,
            "bottom": null,
            "_model_module": "@jupyter-widgets/base",
            "top": null,
            "grid_column": null,
            "overflow_y": null,
            "overflow_x": null,
            "grid_auto_flow": null,
            "grid_area": null,
            "grid_template_columns": null,
            "flex": null,
            "_model_name": "LayoutModel",
            "justify_items": null,
            "grid_row": null,
            "max_height": null,
            "align_content": null,
            "visibility": null,
            "align_self": null,
            "height": null,
            "min_height": null,
            "padding": null,
            "grid_auto_rows": null,
            "grid_gap": null,
            "max_width": null,
            "order": null,
            "_view_module_version": "1.2.0",
            "grid_template_areas": null,
            "object_position": null,
            "object_fit": null,
            "grid_auto_columns": null,
            "margin": null,
            "display": null,
            "left": null
          }
        },
        "7ae913c3cd5d40ecb0936f2148135a6a": {
          "model_module": "@jupyter-widgets/controls",
          "model_name": "DescriptionStyleModel",
          "state": {
            "_view_name": "StyleView",
            "_model_name": "DescriptionStyleModel",
            "description_width": "",
            "_view_module": "@jupyter-widgets/base",
            "_model_module_version": "1.5.0",
            "_view_count": null,
            "_view_module_version": "1.2.0",
            "_model_module": "@jupyter-widgets/controls"
          }
        },
        "7d7bb59ebb2a429282438d8ae70309b8": {
          "model_module": "@jupyter-widgets/base",
          "model_name": "LayoutModel",
          "state": {
            "_view_name": "LayoutView",
            "grid_template_rows": null,
            "right": null,
            "justify_content": null,
            "_view_module": "@jupyter-widgets/base",
            "overflow": null,
            "_model_module_version": "1.2.0",
            "_view_count": null,
            "flex_flow": null,
            "width": null,
            "min_width": null,
            "border": null,
            "align_items": null,
            "bottom": null,
            "_model_module": "@jupyter-widgets/base",
            "top": null,
            "grid_column": null,
            "overflow_y": null,
            "overflow_x": null,
            "grid_auto_flow": null,
            "grid_area": null,
            "grid_template_columns": null,
            "flex": null,
            "_model_name": "LayoutModel",
            "justify_items": null,
            "grid_row": null,
            "max_height": null,
            "align_content": null,
            "visibility": null,
            "align_self": null,
            "height": null,
            "min_height": null,
            "padding": null,
            "grid_auto_rows": null,
            "grid_gap": null,
            "max_width": null,
            "order": null,
            "_view_module_version": "1.2.0",
            "grid_template_areas": null,
            "object_position": null,
            "object_fit": null,
            "grid_auto_columns": null,
            "margin": null,
            "display": null,
            "left": null
          }
        },
        "e46cc442040f4342a0f9e08d086e9ed6": {
          "model_module": "@jupyter-widgets/controls",
          "model_name": "HBoxModel",
          "state": {
            "_view_name": "HBoxView",
            "_dom_classes": [],
            "_model_name": "HBoxModel",
            "_view_module": "@jupyter-widgets/controls",
            "_model_module_version": "1.5.0",
            "_view_count": null,
            "_view_module_version": "1.5.0",
            "box_style": "",
            "layout": "IPY_MODEL_972a9c10cd0d4ebebbc3210e7f1a34b0",
            "_model_module": "@jupyter-widgets/controls",
            "children": [
              "IPY_MODEL_6487f2430b8f443cad6849a59cb32366",
              "IPY_MODEL_3e11e43573ab43898de8671bb605f936",
              "IPY_MODEL_c9fda47d6c1a4984891dbca47f3167f4"
            ]
          }
        },
        "972a9c10cd0d4ebebbc3210e7f1a34b0": {
          "model_module": "@jupyter-widgets/base",
          "model_name": "LayoutModel",
          "state": {
            "_view_name": "LayoutView",
            "grid_template_rows": null,
            "right": null,
            "justify_content": null,
            "_view_module": "@jupyter-widgets/base",
            "overflow": null,
            "_model_module_version": "1.2.0",
            "_view_count": null,
            "flex_flow": null,
            "width": null,
            "min_width": null,
            "border": null,
            "align_items": null,
            "bottom": null,
            "_model_module": "@jupyter-widgets/base",
            "top": null,
            "grid_column": null,
            "overflow_y": null,
            "overflow_x": null,
            "grid_auto_flow": null,
            "grid_area": null,
            "grid_template_columns": null,
            "flex": null,
            "_model_name": "LayoutModel",
            "justify_items": null,
            "grid_row": null,
            "max_height": null,
            "align_content": null,
            "visibility": null,
            "align_self": null,
            "height": null,
            "min_height": null,
            "padding": null,
            "grid_auto_rows": null,
            "grid_gap": null,
            "max_width": null,
            "order": null,
            "_view_module_version": "1.2.0",
            "grid_template_areas": null,
            "object_position": null,
            "object_fit": null,
            "grid_auto_columns": null,
            "margin": null,
            "display": null,
            "left": null
          }
        },
        "6487f2430b8f443cad6849a59cb32366": {
          "model_module": "@jupyter-widgets/controls",
          "model_name": "HTMLModel",
          "state": {
            "_view_name": "HTMLView",
            "style": "IPY_MODEL_0364a1bd34944e42802379e302cfac57",
            "_dom_classes": [],
            "description": "",
            "_model_name": "HTMLModel",
            "placeholder": "​",
            "_view_module": "@jupyter-widgets/controls",
            "_model_module_version": "1.5.0",
            "value": "Running Evaluation: 100%",
            "_view_count": null,
            "_view_module_version": "1.5.0",
            "description_tooltip": null,
            "_model_module": "@jupyter-widgets/controls",
            "layout": "IPY_MODEL_f9ab9e3b220748569e3ccd05ff9c5010"
          }
        },
        "3e11e43573ab43898de8671bb605f936": {
          "model_module": "@jupyter-widgets/controls",
          "model_name": "FloatProgressModel",
          "state": {
            "_view_name": "ProgressView",
            "style": "IPY_MODEL_a8a7e13a45af461d8dc90dc89dc7bc23",
            "_dom_classes": [],
            "description": "",
            "_model_name": "FloatProgressModel",
            "bar_style": "success",
            "max": 526,
            "_view_module": "@jupyter-widgets/controls",
            "_model_module_version": "1.5.0",
            "value": 526,
            "_view_count": null,
            "_view_module_version": "1.5.0",
            "orientation": "horizontal",
            "min": 0,
            "description_tooltip": null,
            "_model_module": "@jupyter-widgets/controls",
            "layout": "IPY_MODEL_87000abc213c4051954660885c2c2b27"
          }
        },
        "c9fda47d6c1a4984891dbca47f3167f4": {
          "model_module": "@jupyter-widgets/controls",
          "model_name": "HTMLModel",
          "state": {
            "_view_name": "HTMLView",
            "style": "IPY_MODEL_7ab5dc0eb4384b32a82cf308bfa51882",
            "_dom_classes": [],
            "description": "",
            "_model_name": "HTMLModel",
            "placeholder": "​",
            "_view_module": "@jupyter-widgets/controls",
            "_model_module_version": "1.5.0",
            "value": " 526/526 [01:06&lt;00:00,  7.96it/s]",
            "_view_count": null,
            "_view_module_version": "1.5.0",
            "description_tooltip": null,
            "_model_module": "@jupyter-widgets/controls",
            "layout": "IPY_MODEL_15668ba4539947c0af2d8394d6d1f2ab"
          }
        },
        "0364a1bd34944e42802379e302cfac57": {
          "model_module": "@jupyter-widgets/controls",
          "model_name": "DescriptionStyleModel",
          "state": {
            "_view_name": "StyleView",
            "_model_name": "DescriptionStyleModel",
            "description_width": "",
            "_view_module": "@jupyter-widgets/base",
            "_model_module_version": "1.5.0",
            "_view_count": null,
            "_view_module_version": "1.2.0",
            "_model_module": "@jupyter-widgets/controls"
          }
        },
        "f9ab9e3b220748569e3ccd05ff9c5010": {
          "model_module": "@jupyter-widgets/base",
          "model_name": "LayoutModel",
          "state": {
            "_view_name": "LayoutView",
            "grid_template_rows": null,
            "right": null,
            "justify_content": null,
            "_view_module": "@jupyter-widgets/base",
            "overflow": null,
            "_model_module_version": "1.2.0",
            "_view_count": null,
            "flex_flow": null,
            "width": null,
            "min_width": null,
            "border": null,
            "align_items": null,
            "bottom": null,
            "_model_module": "@jupyter-widgets/base",
            "top": null,
            "grid_column": null,
            "overflow_y": null,
            "overflow_x": null,
            "grid_auto_flow": null,
            "grid_area": null,
            "grid_template_columns": null,
            "flex": null,
            "_model_name": "LayoutModel",
            "justify_items": null,
            "grid_row": null,
            "max_height": null,
            "align_content": null,
            "visibility": null,
            "align_self": null,
            "height": null,
            "min_height": null,
            "padding": null,
            "grid_auto_rows": null,
            "grid_gap": null,
            "max_width": null,
            "order": null,
            "_view_module_version": "1.2.0",
            "grid_template_areas": null,
            "object_position": null,
            "object_fit": null,
            "grid_auto_columns": null,
            "margin": null,
            "display": null,
            "left": null
          }
        },
        "a8a7e13a45af461d8dc90dc89dc7bc23": {
          "model_module": "@jupyter-widgets/controls",
          "model_name": "ProgressStyleModel",
          "state": {
            "_view_name": "StyleView",
            "_model_name": "ProgressStyleModel",
            "description_width": "",
            "_view_module": "@jupyter-widgets/base",
            "_model_module_version": "1.5.0",
            "_view_count": null,
            "_view_module_version": "1.2.0",
            "bar_color": null,
            "_model_module": "@jupyter-widgets/controls"
          }
        },
        "87000abc213c4051954660885c2c2b27": {
          "model_module": "@jupyter-widgets/base",
          "model_name": "LayoutModel",
          "state": {
            "_view_name": "LayoutView",
            "grid_template_rows": null,
            "right": null,
            "justify_content": null,
            "_view_module": "@jupyter-widgets/base",
            "overflow": null,
            "_model_module_version": "1.2.0",
            "_view_count": null,
            "flex_flow": null,
            "width": null,
            "min_width": null,
            "border": null,
            "align_items": null,
            "bottom": null,
            "_model_module": "@jupyter-widgets/base",
            "top": null,
            "grid_column": null,
            "overflow_y": null,
            "overflow_x": null,
            "grid_auto_flow": null,
            "grid_area": null,
            "grid_template_columns": null,
            "flex": null,
            "_model_name": "LayoutModel",
            "justify_items": null,
            "grid_row": null,
            "max_height": null,
            "align_content": null,
            "visibility": null,
            "align_self": null,
            "height": null,
            "min_height": null,
            "padding": null,
            "grid_auto_rows": null,
            "grid_gap": null,
            "max_width": null,
            "order": null,
            "_view_module_version": "1.2.0",
            "grid_template_areas": null,
            "object_position": null,
            "object_fit": null,
            "grid_auto_columns": null,
            "margin": null,
            "display": null,
            "left": null
          }
        },
        "7ab5dc0eb4384b32a82cf308bfa51882": {
          "model_module": "@jupyter-widgets/controls",
          "model_name": "DescriptionStyleModel",
          "state": {
            "_view_name": "StyleView",
            "_model_name": "DescriptionStyleModel",
            "description_width": "",
            "_view_module": "@jupyter-widgets/base",
            "_model_module_version": "1.5.0",
            "_view_count": null,
            "_view_module_version": "1.2.0",
            "_model_module": "@jupyter-widgets/controls"
          }
        },
        "15668ba4539947c0af2d8394d6d1f2ab": {
          "model_module": "@jupyter-widgets/base",
          "model_name": "LayoutModel",
          "state": {
            "_view_name": "LayoutView",
            "grid_template_rows": null,
            "right": null,
            "justify_content": null,
            "_view_module": "@jupyter-widgets/base",
            "overflow": null,
            "_model_module_version": "1.2.0",
            "_view_count": null,
            "flex_flow": null,
            "width": null,
            "min_width": null,
            "border": null,
            "align_items": null,
            "bottom": null,
            "_model_module": "@jupyter-widgets/base",
            "top": null,
            "grid_column": null,
            "overflow_y": null,
            "overflow_x": null,
            "grid_auto_flow": null,
            "grid_area": null,
            "grid_template_columns": null,
            "flex": null,
            "_model_name": "LayoutModel",
            "justify_items": null,
            "grid_row": null,
            "max_height": null,
            "align_content": null,
            "visibility": null,
            "align_self": null,
            "height": null,
            "min_height": null,
            "padding": null,
            "grid_auto_rows": null,
            "grid_gap": null,
            "max_width": null,
            "order": null,
            "_view_module_version": "1.2.0",
            "grid_template_areas": null,
            "object_position": null,
            "object_fit": null,
            "grid_auto_columns": null,
            "margin": null,
            "display": null,
            "left": null
          }
        },
        "0e9dbea01275424a8f27a7fd23fe63e1": {
          "model_module": "@jupyter-widgets/controls",
          "model_name": "VBoxModel",
          "state": {
            "_view_name": "VBoxView",
            "_dom_classes": [],
            "_model_name": "VBoxModel",
            "_view_module": "@jupyter-widgets/controls",
            "_model_module_version": "1.5.0",
            "_view_count": null,
            "_view_module_version": "1.5.0",
            "box_style": "",
            "layout": "IPY_MODEL_7245407170444bce977cd897e2813943",
            "_model_module": "@jupyter-widgets/controls",
            "children": [
              "IPY_MODEL_7f8b81d269e54f7fb570d95ae1838f3b",
              "IPY_MODEL_b151731fbb264710a2f39afcc87deb24"
            ]
          }
        },
        "7245407170444bce977cd897e2813943": {
          "model_module": "@jupyter-widgets/base",
          "model_name": "LayoutModel",
          "state": {
            "_view_name": "LayoutView",
            "grid_template_rows": null,
            "right": null,
            "justify_content": null,
            "_view_module": "@jupyter-widgets/base",
            "overflow": null,
            "_model_module_version": "1.2.0",
            "_view_count": null,
            "flex_flow": null,
            "width": null,
            "min_width": null,
            "border": null,
            "align_items": null,
            "bottom": null,
            "_model_module": "@jupyter-widgets/base",
            "top": null,
            "grid_column": null,
            "overflow_y": null,
            "overflow_x": null,
            "grid_auto_flow": null,
            "grid_area": null,
            "grid_template_columns": null,
            "flex": null,
            "_model_name": "LayoutModel",
            "justify_items": null,
            "grid_row": null,
            "max_height": null,
            "align_content": null,
            "visibility": null,
            "align_self": null,
            "height": null,
            "min_height": null,
            "padding": null,
            "grid_auto_rows": null,
            "grid_gap": null,
            "max_width": null,
            "order": null,
            "_view_module_version": "1.2.0",
            "grid_template_areas": null,
            "object_position": null,
            "object_fit": null,
            "grid_auto_columns": null,
            "margin": null,
            "display": null,
            "left": null
          }
        },
        "7f8b81d269e54f7fb570d95ae1838f3b": {
          "model_module": "@jupyter-widgets/controls",
          "model_name": "LabelModel",
          "state": {
            "_view_name": "LabelView",
            "style": "IPY_MODEL_41c9449aedd44da487713aabc767ed99",
            "_dom_classes": [],
            "description": "",
            "_model_name": "LabelModel",
            "placeholder": "​",
            "_view_module": "@jupyter-widgets/controls",
            "_model_module_version": "1.5.0",
            "value": " 0.39MB of 0.39MB uploaded (0.00MB deduped)\r",
            "_view_count": null,
            "_view_module_version": "1.5.0",
            "description_tooltip": null,
            "_model_module": "@jupyter-widgets/controls",
            "layout": "IPY_MODEL_e1666ac7ddf44563a1cf11ffad210298"
          }
        },
        "b151731fbb264710a2f39afcc87deb24": {
          "model_module": "@jupyter-widgets/controls",
          "model_name": "FloatProgressModel",
          "state": {
            "_view_name": "ProgressView",
            "style": "IPY_MODEL_26f9a3b58b084de1888890d44936624f",
            "_dom_classes": [],
            "description": "",
            "_model_name": "FloatProgressModel",
            "bar_style": "",
            "max": 1,
            "_view_module": "@jupyter-widgets/controls",
            "_model_module_version": "1.5.0",
            "value": 1,
            "_view_count": null,
            "_view_module_version": "1.5.0",
            "orientation": "horizontal",
            "min": 0,
            "description_tooltip": null,
            "_model_module": "@jupyter-widgets/controls",
            "layout": "IPY_MODEL_95145a20f636420481786aa8317d2f62"
          }
        },
        "41c9449aedd44da487713aabc767ed99": {
          "model_module": "@jupyter-widgets/controls",
          "model_name": "DescriptionStyleModel",
          "state": {
            "_view_name": "StyleView",
            "_model_name": "DescriptionStyleModel",
            "description_width": "",
            "_view_module": "@jupyter-widgets/base",
            "_model_module_version": "1.5.0",
            "_view_count": null,
            "_view_module_version": "1.2.0",
            "_model_module": "@jupyter-widgets/controls"
          }
        },
        "e1666ac7ddf44563a1cf11ffad210298": {
          "model_module": "@jupyter-widgets/base",
          "model_name": "LayoutModel",
          "state": {
            "_view_name": "LayoutView",
            "grid_template_rows": null,
            "right": null,
            "justify_content": null,
            "_view_module": "@jupyter-widgets/base",
            "overflow": null,
            "_model_module_version": "1.2.0",
            "_view_count": null,
            "flex_flow": null,
            "width": null,
            "min_width": null,
            "border": null,
            "align_items": null,
            "bottom": null,
            "_model_module": "@jupyter-widgets/base",
            "top": null,
            "grid_column": null,
            "overflow_y": null,
            "overflow_x": null,
            "grid_auto_flow": null,
            "grid_area": null,
            "grid_template_columns": null,
            "flex": null,
            "_model_name": "LayoutModel",
            "justify_items": null,
            "grid_row": null,
            "max_height": null,
            "align_content": null,
            "visibility": null,
            "align_self": null,
            "height": null,
            "min_height": null,
            "padding": null,
            "grid_auto_rows": null,
            "grid_gap": null,
            "max_width": null,
            "order": null,
            "_view_module_version": "1.2.0",
            "grid_template_areas": null,
            "object_position": null,
            "object_fit": null,
            "grid_auto_columns": null,
            "margin": null,
            "display": null,
            "left": null
          }
        },
        "26f9a3b58b084de1888890d44936624f": {
          "model_module": "@jupyter-widgets/controls",
          "model_name": "ProgressStyleModel",
          "state": {
            "_view_name": "StyleView",
            "_model_name": "ProgressStyleModel",
            "description_width": "",
            "_view_module": "@jupyter-widgets/base",
            "_model_module_version": "1.5.0",
            "_view_count": null,
            "_view_module_version": "1.2.0",
            "bar_color": null,
            "_model_module": "@jupyter-widgets/controls"
          }
        },
        "95145a20f636420481786aa8317d2f62": {
          "model_module": "@jupyter-widgets/base",
          "model_name": "LayoutModel",
          "state": {
            "_view_name": "LayoutView",
            "grid_template_rows": null,
            "right": null,
            "justify_content": null,
            "_view_module": "@jupyter-widgets/base",
            "overflow": null,
            "_model_module_version": "1.2.0",
            "_view_count": null,
            "flex_flow": null,
            "width": null,
            "min_width": null,
            "border": null,
            "align_items": null,
            "bottom": null,
            "_model_module": "@jupyter-widgets/base",
            "top": null,
            "grid_column": null,
            "overflow_y": null,
            "overflow_x": null,
            "grid_auto_flow": null,
            "grid_area": null,
            "grid_template_columns": null,
            "flex": null,
            "_model_name": "LayoutModel",
            "justify_items": null,
            "grid_row": null,
            "max_height": null,
            "align_content": null,
            "visibility": null,
            "align_self": null,
            "height": null,
            "min_height": null,
            "padding": null,
            "grid_auto_rows": null,
            "grid_gap": null,
            "max_width": null,
            "order": null,
            "_view_module_version": "1.2.0",
            "grid_template_areas": null,
            "object_position": null,
            "object_fit": null,
            "grid_auto_columns": null,
            "margin": null,
            "display": null,
            "left": null
          }
        }
      }
    }
  },
  "cells": [
    {
      "cell_type": "code",
      "metadata": {
        "id": "ElzITRFvjyID"
      },
      "source": [
        "!pip install transformers\n",
        "!pip install simpletransformers"
      ],
      "execution_count": null,
      "outputs": []
    },
    {
      "cell_type": "code",
      "metadata": {
        "id": "JwuDn-Q4mb8R",
        "colab": {
          "base_uri": "https://localhost:8080/"
        },
        "outputId": "d2f88c80-5125-4a39-edfe-2f32fe690a36"
      },
      "source": [
        "import pandas as pd\n",
        "import numpy as np\n",
        "\n",
        "from collections import defaultdict, Counter\n",
        "\n",
        "from sklearn import model_selection\n",
        "from sklearn.metrics import accuracy_score, classification_report,f1_score\n",
        "from sklearn.model_selection import train_test_split\n",
        "\n",
        "from simpletransformers.classification import ClassificationModel, ClassificationArgs\n",
        "\n",
        "import nltk \n",
        "from nltk import pos_tag\n",
        "from nltk.tokenize import word_tokenize\n",
        "from nltk.corpus import stopwords\n",
        "from nltk.stem import WordNetLemmatizer\n",
        "from nltk.corpus import wordnet as wn\n",
        "nltk.download('punkt')\n",
        "nltk.download('wordnet')\n",
        "nltk.download('averaged_perceptron_tagger')\n",
        "nltk.download('stopwords')"
      ],
      "execution_count": null,
      "outputs": [
        {
          "output_type": "stream",
          "text": [
            "[nltk_data] Downloading package punkt to /root/nltk_data...\n",
            "[nltk_data]   Package punkt is already up-to-date!\n",
            "[nltk_data] Downloading package wordnet to /root/nltk_data...\n",
            "[nltk_data]   Package wordnet is already up-to-date!\n",
            "[nltk_data] Downloading package averaged_perceptron_tagger to\n",
            "[nltk_data]     /root/nltk_data...\n",
            "[nltk_data]   Package averaged_perceptron_tagger is already up-to-\n",
            "[nltk_data]       date!\n",
            "[nltk_data] Downloading package stopwords to /root/nltk_data...\n",
            "[nltk_data]   Package stopwords is already up-to-date!\n"
          ],
          "name": "stdout"
        },
        {
          "output_type": "execute_result",
          "data": {
            "text/plain": [
              "True"
            ]
          },
          "metadata": {
            "tags": []
          },
          "execution_count": 2
        }
      ]
    },
    {
      "cell_type": "code",
      "metadata": {
        "colab": {
          "base_uri": "https://localhost:8080/"
        },
        "id": "eb3-aSBygBLH",
        "outputId": "a8038777-8953-4b75-f09a-ac5af2112b11"
      },
      "source": [
        "\n",
        "import wandb\n",
        "!wandb login 6fcfd33f292c19c9a44b565ee505839e5381b21e"
      ],
      "execution_count": null,
      "outputs": [
        {
          "output_type": "stream",
          "text": [
            "\u001b[34m\u001b[1mwandb\u001b[0m: Appending key for api.wandb.ai to your netrc file: /root/.netrc\n"
          ],
          "name": "stdout"
        }
      ]
    },
    {
      "cell_type": "code",
      "metadata": {
        "id": "IReyiTEJgDje"
      },
      "source": [
        "import shutil\n",
        "dele = True\n",
        "\n",
        "if dele:\n",
        "  shutil.rmtree('/content/outputs')\n",
        "  shutil.rmtree('/content/runs')\n",
        "  shutil.rmtree('/content/cache_dir')\n",
        "  shutil.rmtree('/content/wandb')\n"
      ],
      "execution_count": null,
      "outputs": []
    },
    {
      "cell_type": "code",
      "metadata": {
        "id": "A2ZaMEH6_R9F"
      },
      "source": [
        "# import modules and settings\n",
        "import pandas as pd\n",
        "import numpy as np\n",
        "import glob\n",
        "pd.options.display.max_colwidth =1000\n",
        "# combine all the raw data to one single dataframe\n",
        "\n",
        "path = r'/content/'\n",
        "all_files = glob.glob(path + \"/*.trans\")\n",
        "li = []\n",
        "\n",
        "for filename in all_files:\n",
        "    df = pd.read_csv(filename, sep='\\t', names = ['txtID','txtStart','txtStop', 'speakerID','utterance' ])\n",
        "    li.append(df)\n",
        "\n",
        "rawdf = pd.concat(li, axis=0, ignore_index=True)\n",
        "rawdf"
      ],
      "execution_count": null,
      "outputs": []
    },
    {
      "cell_type": "code",
      "metadata": {
        "id": "b_aODGC6_U2k",
        "colab": {
          "base_uri": "https://localhost:8080/"
        },
        "outputId": "1485ad24-12ce-4aeb-f967-d96ad9e0d4f7"
      },
      "source": [
        "def catch_ai_type(df):\n",
        "    \n",
        "    '''\n",
        "    1: creates a binary label actionItem if  occurs inutterance\n",
        "    2: assigns an action item type and subtype for each utterance\n",
        "    '''\n",
        "    \n",
        "    # binary labeling\n",
        "    df[\"actionItem\"]= df[\"utterance\"].str.find(\"<\") \n",
        "    df['actionItem'] = [False if x < 0 else True for x in df['actionItem']]\n",
        "    \n",
        "    # multiclas labeling\n",
        "    df['aitype'] = 'noAI'\n",
        "    df['aisubtype'] = 'noAI'\n",
        "    \n",
        "    for i, utterance in enumerate(df['utterance']):\n",
        "        #Reminders\n",
        "        if utterance.find('<create_single_reminder>') != -1:\n",
        "            df.at[i, 'aitype'] = str('Reminder')\n",
        "            df.at[i, 'aisubtype'] = str('create_single_reminder')\n",
        "         \n",
        "        #Calendar\n",
        "        if utterance.find('<find_calendar_entry>') != -1:\n",
        "            df.at[i, 'aitype'] = str('Calendar')\n",
        "            df.at[i, 'aisubtype'] = str('find_calendar_entry')\n",
        "\n",
        "        if utterance.find('<create_calendar_entry>') != -1:\n",
        "            df.at[i, 'aitype'] = str('Calendar')\n",
        "            df.at[i, 'aisubtype'] = str('create_calendar_entry')\n",
        "\n",
        "        if utterance.find('<add_agenda_item>') != -1:\n",
        "            df.at[i, 'aitype'] = str('Calendar')\n",
        "            df.at[i, 'aisubtype'] = str('add_agenda_item')\n",
        "            \n",
        "        if utterance.find('<open_agenda>') != -1:\n",
        "            df.at[i, 'aitype'] = str('Calendar')\n",
        "            df.at[i, 'aisubtype'] = str('open_agenda')\n",
        "            \n",
        "        #Communication           \n",
        "        if utterance.find('<send_email>') != -1:\n",
        "            df.at[i, 'aitype'] = str('Communication')\n",
        "            df.at[i, 'aisubtype'] = str('send_email')\n",
        "\n",
        "        if utterance.find('<find_email>') != -1:\n",
        "            df.at[i, 'aitype'] = str('Communication')\n",
        "            df.at[i, 'aisubtype'] = str('find_email')\n",
        "\n",
        "        if utterance.find('<make_call>') != -1:\n",
        "            df.at[i, 'aitype'] = str('Communication')\n",
        "            df.at[i, 'aisubtype'] = str('make_call')\n",
        "\n",
        "        #Search\n",
        "        if utterance.find('<search>') != -1:\n",
        "            df.at[i, 'aitype'] = str('search')\n",
        "            df.at[i, 'aisubtype'] = str('search')\n",
        "            \n",
        "        #OnDevice\n",
        "        if utterance.find('<open_setting>') != -1:\n",
        "            df.at[i, 'aitype'] = str('OnDevice')\n",
        "            df.at[i, 'aisubtype'] = str('OnDevice')\n",
        "    return df\n",
        "\n",
        "            \n",
        "            \n",
        "            \n",
        "dftagged = catch_ai_type(df = rawdf)       \n",
        "\n",
        "def catch_ai_tag(df):\n",
        "    \n",
        "    '''\n",
        "    1: searches for ai tags if a ai type is found\n",
        "    2: saves ai tags with corresponding tags in df\n",
        "    '''\n",
        "    \n",
        "    for i, utterance in enumerate(df['utterance']):\n",
        "        #Reminders\n",
        "        if utterance.find('<create_single_reminder>') != -1:\n",
        "            for arg in ['contact_name','reminder_text', 'start_date', 'start_time']:\n",
        "                if str(utterance).find('<'  + arg + '>') != -1:\n",
        "                    n = len(arg)+2\n",
        "                    st = str(utterance).find('<'  + arg + '>')\n",
        "                    en = str(utterance).find('</' + arg + '>')\n",
        "                    obs = utterance[st+n:en]\n",
        "                    df.at[i, arg] = str(obs)\n",
        "                    \n",
        "                if str(utterance).find('<'  + arg + '>') == -1:\n",
        "                    df.at[i,arg] = 'NA'\n",
        "                    \n",
        "        #Calendar\n",
        "        if any(x in utterance for x in \n",
        "               ['<find_calendar_entry>','<create_calendar_entry>','<add_agenda_item>','<open_agenda>']):\n",
        "            for arg in ['contact_name','entry_type', 'start_date','end_date', 'start_time','end_time',\n",
        "                        'title','absolute_location','implicit_location', 'agenda_item']:\n",
        "                if str(utterance).find('<'  + arg + '>') != -1:\n",
        "                    n = len(arg)+2\n",
        "                    st = str(utterance).find('<'  + arg + '>')\n",
        "                    en = str(utterance).find('</' + arg + '>')\n",
        "                    obs = str(utterance[st+n:en])\n",
        "                    df.at[i, arg] = str(obs)\n",
        "                    \n",
        "                if str(utterance).find('<'  + arg + '>') == -1:\n",
        "                    df.at[i,arg] = 'NA'\n",
        "        \n",
        "        \n",
        "        #Communication\n",
        "        if any(x in utterance for x in \n",
        "               ['<send_email>','<find_email>','<make_call>','<open_agenda>']):\n",
        "            for arg in ['contact_name','email_subject', 'email_content','from_contact_name']:\n",
        "                if str(utterance).find('<'  + arg + '>') != -1:\n",
        "                    n = len(arg)+2\n",
        "                    st = str(utterance).find('<'  + arg + '>')\n",
        "                    en = str(utterance).find('</' + arg + '>')\n",
        "                    obs = str(utterance[st+n:en])\n",
        "                    df.at[i, arg] = str(obs)\n",
        "                    \n",
        "                if str(utterance).find('<'  + arg + '>') == -1:\n",
        "                    df.at[i,arg] = 'NA'        \n",
        "\n",
        "        #Search\n",
        "        if utterance.find('<search>') != -1:\n",
        "            for arg in ['query_term']:\n",
        "                if str(utterance).find('<'  + arg + '>') != -1:\n",
        "                    n = len(arg)+2\n",
        "                    st = str(utterance).find('<'  + arg + '>')\n",
        "                    en = str(utterance).find('</' + arg + '>')\n",
        "                    obs = utterance[st+n:en]\n",
        "                    df.at[i, arg] = str(obs)\n",
        "                    \n",
        "                if str(utterance).find('<'  + arg + '>') == -1:\n",
        "                    df.at[i,arg] = 'NA'\n",
        "            \n",
        "        #ondevice\n",
        "        if utterance.find('<open_setting>') != -1:\n",
        "            for arg in ['setting_type']:\n",
        "                if str(utterance).find('<'  + arg + '>') != -1:\n",
        "                    n = len(arg)+2\n",
        "                    st = str(utterance).find('<'  + arg + '>')\n",
        "                    en = str(utterance).find('</' + arg + '>')\n",
        "                    obs = utterance[st+n:en]\n",
        "                    df.at[i, arg] = str(obs)\n",
        "                    \n",
        "                if str(utterance).find('<'  + arg + '>') == -1:\n",
        "                    df.at[i,arg] = 'NA'\n",
        "                    \n",
        "    return df\n",
        "       \n",
        "    \n",
        "    \n",
        "    \n",
        "dftagged = catch_ai_tag(df = dftagged)       \n",
        "\n",
        "dfai = dftagged[dftagged['actionItem'] == True]\n",
        "\n",
        "data = dftagged[['utterance', 'actionItem']]\n",
        "\n",
        "\n",
        "# remove ai item labels\n",
        "import re \n",
        "for i, utter in enumerate(data['utterance']):\n",
        "    data.at[i, 'utter'] = re.sub(\"[\\<\\</].*?[\\>\\>]\", \"\", utter)\n",
        "\n"
      ],
      "execution_count": null,
      "outputs": [
        {
          "output_type": "stream",
          "text": [
            "/usr/local/lib/python3.6/dist-packages/pandas/core/indexing.py:1596: SettingWithCopyWarning: \n",
            "A value is trying to be set on a copy of a slice from a DataFrame.\n",
            "Try using .loc[row_indexer,col_indexer] = value instead\n",
            "\n",
            "See the caveats in the documentation: https://pandas.pydata.org/pandas-docs/stable/user_guide/indexing.html#returning-a-view-versus-a-copy\n",
            "  self.obj[key] = _infer_fill_value(value)\n",
            "/usr/local/lib/python3.6/dist-packages/pandas/core/indexing.py:1763: SettingWithCopyWarning: \n",
            "A value is trying to be set on a copy of a slice from a DataFrame.\n",
            "Try using .loc[row_indexer,col_indexer] = value instead\n",
            "\n",
            "See the caveats in the documentation: https://pandas.pydata.org/pandas-docs/stable/user_guide/indexing.html#returning-a-view-versus-a-copy\n",
            "  isetter(loc, value)\n"
          ],
          "name": "stderr"
        }
      ]
    },
    {
      "cell_type": "code",
      "metadata": {
        "colab": {
          "base_uri": "https://localhost:8080/",
          "height": 204
        },
        "id": "NdxO2cWQLUUi",
        "outputId": "8efa6525-4025-40e8-bb7b-fc5887272983"
      },
      "source": [
        "data = data[data['utter'] != \"\"]\n",
        "data = data[['utter', 'actionItem']]\n",
        "data.head()"
      ],
      "execution_count": null,
      "outputs": [
        {
          "output_type": "execute_result",
          "data": {
            "text/html": [
              "<div>\n",
              "<style scoped>\n",
              "    .dataframe tbody tr th:only-of-type {\n",
              "        vertical-align: middle;\n",
              "    }\n",
              "\n",
              "    .dataframe tbody tr th {\n",
              "        vertical-align: top;\n",
              "    }\n",
              "\n",
              "    .dataframe thead th {\n",
              "        text-align: right;\n",
              "    }\n",
              "</style>\n",
              "<table border=\"1\" class=\"dataframe\">\n",
              "  <thead>\n",
              "    <tr style=\"text-align: right;\">\n",
              "      <th></th>\n",
              "      <th>utter</th>\n",
              "      <th>actionItem</th>\n",
              "    </tr>\n",
              "  </thead>\n",
              "  <tbody>\n",
              "    <tr>\n",
              "      <th>0</th>\n",
              "      <td>I, uh, had some communications with him yesterday or the day before. So, he doesn't plan on coming real soon, but he is taking sabbatical this year and so he'll probably come for six weeks at some point.</td>\n",
              "      <td>False</td>\n",
              "    </tr>\n",
              "    <tr>\n",
              "      <th>1</th>\n",
              "      <td>Ah, so comfortable.</td>\n",
              "      <td>False</td>\n",
              "    </tr>\n",
              "    <tr>\n",
              "      <th>2</th>\n",
              "      <td>Smooth.</td>\n",
              "      <td>False</td>\n",
              "    </tr>\n",
              "    <tr>\n",
              "      <th>3</th>\n",
              "      <td>Mm-hmm.</td>\n",
              "      <td>False</td>\n",
              "    </tr>\n",
              "    <tr>\n",
              "      <th>4</th>\n",
              "      <td>Good.</td>\n",
              "      <td>False</td>\n",
              "    </tr>\n",
              "  </tbody>\n",
              "</table>\n",
              "</div>"
            ],
            "text/plain": [
              "                                                                                                                                                                                                         utter  actionItem\n",
              "0  I, uh, had some communications with him yesterday or the day before. So, he doesn't plan on coming real soon, but he is taking sabbatical this year and so he'll probably come for six weeks at some point.       False\n",
              "1                                                                                                                                                                                          Ah, so comfortable.       False\n",
              "2                                                                                                                                                                                                      Smooth.       False\n",
              "3                                                                                                                                                                                                      Mm-hmm.       False\n",
              "4                                                                                                                                                                                                        Good.       False"
            ]
          },
          "metadata": {
            "tags": []
          },
          "execution_count": 7
        }
      ]
    },
    {
      "cell_type": "code",
      "metadata": {
        "id": "uc8328I8NwhD"
      },
      "source": [
        "def tokenize(utter):\n",
        "    tokens = [word_tokenize(t) for t in utter]\n",
        "    return tokens\n",
        "\n",
        "data['norm'] = tokenize(data['utter'])\n",
        "\n",
        "def normalize(tokens,\n",
        "             low = True,\n",
        "             re_punct = False,\n",
        "             re_dig = False,\n",
        "             re_stop = False,\n",
        "             re_small = False,\n",
        "             lemma = False,\n",
        "             to_str = True):\n",
        "        \n",
        "    \n",
        "    tokens = [t.lower() for t in tokens]\n",
        "    \n",
        "    if re_punct:\n",
        "        puncts = list(string.punctuation)+['..','...','<','>','--']\n",
        "        tokens = [''.join([t for t in token if not t in puncts]) for token in tokens]\n",
        "        tokens = [t for t in tokens if t]\n",
        "        \n",
        "    if re_dig:\n",
        "        tokens = [''.join([t for t in token if not t.isdigit()]) for token in tokens]\n",
        "        tokens = [t for t in tokens if t]\n",
        "        \n",
        "    if re_stop:\n",
        "        stop_words = set(stopwords.words('english'))\n",
        "        tokens = [t for t in tokens if not t in stop_words]\n",
        "    \n",
        "    if re_small:\n",
        "        tokens = [t for t in tokens if not len(t)<=2]\n",
        "        \n",
        "    if lemma:\n",
        "        lemmatizer = WordNetLemmatizer()\n",
        "        tokens = [lemmatizer.lemmatize(t) for t in tokens]\n",
        "    \n",
        "    return tokens\n",
        "        "
      ],
      "execution_count": null,
      "outputs": []
    },
    {
      "cell_type": "code",
      "metadata": {
        "id": "PlEJMKYXN1Nr"
      },
      "source": [
        "import string\n",
        "data['norm'] = data['norm'].apply(lambda x: normalize(x,\n",
        "                                                      re_punct = True,\n",
        "                                                      re_dig = True,\n",
        "                                                      re_stop = False,\n",
        "                                                      re_small = False,\n",
        "                                                      lemma = True\n",
        "                                                      ))\n",
        "\n",
        "data['norm'] = [' '.join(l) for l in data['norm']]\n",
        "\n"
      ],
      "execution_count": null,
      "outputs": []
    },
    {
      "cell_type": "code",
      "metadata": {
        "colab": {
          "base_uri": "https://localhost:8080/",
          "height": 238
        },
        "id": "JKmcLumjN-YP",
        "outputId": "d0a28366-dbea-4eaf-b8c8-5a0123ffb990"
      },
      "source": [
        "data[data['actionItem']!= False].head()"
      ],
      "execution_count": null,
      "outputs": [
        {
          "output_type": "execute_result",
          "data": {
            "text/html": [
              "<div>\n",
              "<style scoped>\n",
              "    .dataframe tbody tr th:only-of-type {\n",
              "        vertical-align: middle;\n",
              "    }\n",
              "\n",
              "    .dataframe tbody tr th {\n",
              "        vertical-align: top;\n",
              "    }\n",
              "\n",
              "    .dataframe thead th {\n",
              "        text-align: right;\n",
              "    }\n",
              "</style>\n",
              "<table border=\"1\" class=\"dataframe\">\n",
              "  <thead>\n",
              "    <tr style=\"text-align: right;\">\n",
              "      <th></th>\n",
              "      <th>utter</th>\n",
              "      <th>actionItem</th>\n",
              "      <th>norm</th>\n",
              "    </tr>\n",
              "  </thead>\n",
              "  <tbody>\n",
              "    <tr>\n",
              "      <th>88</th>\n",
              "      <td>Are we to r- Just to make sure I know what's going on, we're talking about Robert's thesis proposal today ? Is that true?</td>\n",
              "      <td>True</td>\n",
              "      <td>are we to r just to make sure i know what s going on we re talking about robert s thesis proposal today is that true</td>\n",
              "    </tr>\n",
              "    <tr>\n",
              "      <th>129</th>\n",
              "      <td>Yeah, um, if  you  would have checked your email you may have received a note from  Yees   asking you to send me the, uh, up-to-d- current formalism thing that you presented  .</td>\n",
              "      <td>True</td>\n",
              "      <td>yeah um if you would have checked your email you may have received a note from yees asking you to send me the uh uptod current formalism thing that you presented</td>\n",
              "    </tr>\n",
              "    <tr>\n",
              "      <th>150</th>\n",
              "      <td>And y- uh,  email any time , but most usefully before -</td>\n",
              "      <td>True</td>\n",
              "      <td>and y uh email any time but most usefully before</td>\n",
              "    </tr>\n",
              "    <tr>\n",
              "      <th>158</th>\n",
              "      <td>The twenty-ninth .</td>\n",
              "      <td>True</td>\n",
              "      <td>the twentyninth</td>\n",
              "    </tr>\n",
              "    <tr>\n",
              "      <th>161</th>\n",
              "      <td>That's when I'm meeting with  Wolfgang Wahlster   to sell him this idea  .</td>\n",
              "      <td>True</td>\n",
              "      <td>that s when i m meeting with wolfgang wahlster to sell him this idea</td>\n",
              "    </tr>\n",
              "  </tbody>\n",
              "</table>\n",
              "</div>"
            ],
            "text/plain": [
              "                                                                                                                                                                                 utter  ...                                                                                                                                                               norm\n",
              "88                                                           Are we to r- Just to make sure I know what's going on, we're talking about Robert's thesis proposal today ? Is that true?  ...                                               are we to r just to make sure i know what s going on we re talking about robert s thesis proposal today is that true\n",
              "129   Yeah, um, if  you  would have checked your email you may have received a note from  Yees   asking you to send me the, uh, up-to-d- current formalism thing that you presented  .  ...  yeah um if you would have checked your email you may have received a note from yees asking you to send me the uh uptod current formalism thing that you presented\n",
              "150                                                                                                                           And y- uh,  email any time , but most usefully before -   ...                                                                                                                   and y uh email any time but most usefully before\n",
              "158                                                                                                                                                                 The twenty-ninth .  ...                                                                                                                                                    the twentyninth\n",
              "161                                                                                                         That's when I'm meeting with  Wolfgang Wahlster   to sell him this idea  .  ...                                                                                               that s when i m meeting with wolfgang wahlster to sell him this idea\n",
              "\n",
              "[5 rows x 3 columns]"
            ]
          },
          "metadata": {
            "tags": []
          },
          "execution_count": 7
        }
      ]
    },
    {
      "cell_type": "code",
      "metadata": {
        "id": "y1bEvF3TONpE"
      },
      "source": [
        "data = data[['norm', 'actionItem']]"
      ],
      "execution_count": null,
      "outputs": []
    },
    {
      "cell_type": "code",
      "metadata": {
        "id": "u-FplKvKEZEp"
      },
      "source": [
        "#data = data[data['utter'] != \"\"]\n",
        "#data = data[['utter', 'actionItem']]\n",
        "data.columns = ['text', 'labels']\n",
        "X = data['text']\n",
        "y = data['labels'].astype(int)\n"
      ],
      "execution_count": null,
      "outputs": []
    },
    {
      "cell_type": "code",
      "metadata": {
        "colab": {
          "base_uri": "https://localhost:8080/",
          "height": 419
        },
        "id": "EhFJLc_NOgXW",
        "outputId": "8d582e14-4c3b-48fd-e9ee-0b3a6c02c69c"
      },
      "source": [
        "data"
      ],
      "execution_count": null,
      "outputs": [
        {
          "output_type": "execute_result",
          "data": {
            "text/html": [
              "<div>\n",
              "<style scoped>\n",
              "    .dataframe tbody tr th:only-of-type {\n",
              "        vertical-align: middle;\n",
              "    }\n",
              "\n",
              "    .dataframe tbody tr th {\n",
              "        vertical-align: top;\n",
              "    }\n",
              "\n",
              "    .dataframe thead th {\n",
              "        text-align: right;\n",
              "    }\n",
              "</style>\n",
              "<table border=\"1\" class=\"dataframe\">\n",
              "  <thead>\n",
              "    <tr style=\"text-align: right;\">\n",
              "      <th></th>\n",
              "      <th>text</th>\n",
              "      <th>labels</th>\n",
              "    </tr>\n",
              "  </thead>\n",
              "  <tbody>\n",
              "    <tr>\n",
              "      <th>0</th>\n",
              "      <td>I, uh, had some communications with him yesterday or the day before. So, he doesn't plan on coming real soon, but he is taking sabbatical this year and so he'll probably come for six weeks at some point.</td>\n",
              "      <td>False</td>\n",
              "    </tr>\n",
              "    <tr>\n",
              "      <th>1</th>\n",
              "      <td>Ah, so comfortable.</td>\n",
              "      <td>False</td>\n",
              "    </tr>\n",
              "    <tr>\n",
              "      <th>2</th>\n",
              "      <td>Smooth.</td>\n",
              "      <td>False</td>\n",
              "    </tr>\n",
              "    <tr>\n",
              "      <th>3</th>\n",
              "      <td>Mm-hmm.</td>\n",
              "      <td>False</td>\n",
              "    </tr>\n",
              "    <tr>\n",
              "      <th>4</th>\n",
              "      <td>Good.</td>\n",
              "      <td>False</td>\n",
              "    </tr>\n",
              "    <tr>\n",
              "      <th>...</th>\n",
              "      <td>...</td>\n",
              "      <td>...</td>\n",
              "    </tr>\n",
              "    <tr>\n",
              "      <th>21026</th>\n",
              "      <td>O_ two seven nine five one five zero eight two five four.</td>\n",
              "      <td>False</td>\n",
              "    </tr>\n",
              "    <tr>\n",
              "      <th>21027</th>\n",
              "      <td>Transcript number two seven seven one two seven nine zero. nine O_ nine eight nine zero one five zero one two two eight eight four five two five O_ O_ three eight two four five six zero zero eight eight one nine five six six</td>\n",
              "      <td>False</td>\n",
              "    </tr>\n",
              "    <tr>\n",
              "      <th>21028</th>\n",
              "      <td>O_ five O_ two one eight seven zero seven zero two nine one two three zero zero five three six three five two four seven seven six four eight six two eight zero nine.</td>\n",
              "      <td>False</td>\n",
              "    </tr>\n",
              "    <tr>\n",
              "      <th>21029</th>\n",
              "      <td>And we are -</td>\n",
              "      <td>False</td>\n",
              "    </tr>\n",
              "    <tr>\n",
              "      <th>21030</th>\n",
              "      <td>That's hard to focus on that, you know, really, it's like - \"alright, now where am I?\"</td>\n",
              "      <td>False</td>\n",
              "    </tr>\n",
              "  </tbody>\n",
              "</table>\n",
              "<p>21031 rows × 2 columns</p>\n",
              "</div>"
            ],
            "text/plain": [
              "                                                                                                                                                                                                                                   text  labels\n",
              "0                           I, uh, had some communications with him yesterday or the day before. So, he doesn't plan on coming real soon, but he is taking sabbatical this year and so he'll probably come for six weeks at some point.   False\n",
              "1                                                                                                                                                                                                                   Ah, so comfortable.   False\n",
              "2                                                                                                                                                                                                                               Smooth.   False\n",
              "3                                                                                                                                                                                                                               Mm-hmm.   False\n",
              "4                                                                                                                                                                                                                                 Good.   False\n",
              "...                                                                                                                                                                                                                                 ...     ...\n",
              "21026                                                                                                                                                                         O_ two seven nine five one five zero eight two five four.   False\n",
              "21027  Transcript number two seven seven one two seven nine zero. nine O_ nine eight nine zero one five zero one two two eight eight four five two five O_ O_ three eight two four five six zero zero eight eight one nine five six six   False\n",
              "21028                                                            O_ five O_ two one eight seven zero seven zero two nine one two three zero zero five three six three five two four seven seven six four eight six two eight zero nine.   False\n",
              "21029                                                                                                                                                                                                                      And we are -   False\n",
              "21030                                                                                                                                            That's hard to focus on that, you know, really, it's like - \"alright, now where am I?\"   False\n",
              "\n",
              "[21031 rows x 2 columns]"
            ]
          },
          "metadata": {
            "tags": []
          },
          "execution_count": 9
        }
      ]
    },
    {
      "cell_type": "code",
      "metadata": {
        "id": "buJzjlNB_HkR",
        "colab": {
          "base_uri": "https://localhost:8080/"
        },
        "outputId": "5663d961-90a4-43e7-b43a-c45e1bad1300"
      },
      "source": [
        "\n",
        "print(Counter(y))\n",
        "\n",
        "X_train, X_test, y_train, y_test = train_test_split(X, y, test_size=0.20, random_state=2020, stratify = y)\n",
        "train = pd.concat([X_train,y_train], axis=1)\n",
        "test = pd.concat([X_test, y_test], axis=1)\n",
        "\n"
      ],
      "execution_count": null,
      "outputs": [
        {
          "output_type": "stream",
          "text": [
            "Counter({0: 20647, 1: 384})\n"
          ],
          "name": "stdout"
        }
      ]
    },
    {
      "cell_type": "code",
      "metadata": {
        "id": "gEtfM__sj_Mt",
        "colab": {
          "base_uri": "https://localhost:8080/"
        },
        "outputId": "fb70de16-a223-4335-b768-8e23efe159cd"
      },
      "source": [
        "\n",
        "print('Shape of train set {}'.format(train.shape))\n",
        "print('Shape of test set {}'.format(test.shape))\n",
        "\n",
        "train.isnull().sum().sum()\n",
        "test.isnull().sum().sum()\n",
        "\n",
        "print(pd.crosstab(y_train, columns='count'))\n",
        "print(pd.crosstab(y_test, columns='count'))"
      ],
      "execution_count": null,
      "outputs": [
        {
          "output_type": "stream",
          "text": [
            "Shape of train set (16824, 2)\n",
            "Shape of test set (4207, 2)\n",
            "col_0   count\n",
            "labels       \n",
            "0       16517\n",
            "1         307\n",
            "col_0   count\n",
            "labels       \n",
            "0        4130\n",
            "1          77\n"
          ],
          "name": "stdout"
        }
      ]
    },
    {
      "cell_type": "code",
      "metadata": {
        "colab": {
          "base_uri": "https://localhost:8080/"
        },
        "id": "WJCzokMcSQST",
        "outputId": "efdd1684-18dd-4877-ac1a-8cae548b0833"
      },
      "source": [
        "l = []\n",
        "\n",
        "for i in (data['text']):\n",
        "  l.append(len(i))\n",
        "\n",
        "import numpy as np\n",
        "print(np.median(l))\n",
        "print(np.max(l))"
      ],
      "execution_count": null,
      "outputs": [
        {
          "output_type": "stream",
          "text": [
            "24.0\n",
            "1239\n"
          ],
          "name": "stdout"
        }
      ]
    },
    {
      "cell_type": "code",
      "metadata": {
        "id": "tB7L5UMavuJw"
      },
      "source": [
        "model_args = ClassificationArgs()\n",
        "from simpletransformers.classification import ClassificationModel, ClassificationArgs\n",
        "\n",
        "# early stopping\n",
        "#model_args.use_early_stopping = True\n",
        "#model_args.early_stopping_delta = 0.001\n",
        "#model_args.early_stopping_metric = \"eval_tp\"\n",
        "#model_args.early_stopping_metric_minimize = False\n",
        "#model_args.early_stopping_patience = 5\n",
        "#model_args.evaluate_during_training_steps = 1000\n",
        "\n",
        "# epochs\n",
        "model_args.num_train_epochs=1\n",
        "model_args.overwrite_output_dir=True\n",
        "model_args.manual_seed=42\n",
        "\n",
        "model_args.wandb_project = \"vt1\"\n",
        "\n",
        "# numeric hyperparams\n",
        "model_args.max_seq_length = 512 # Maximum sequence length the model will support. docs/usge\n",
        "model_args.max_length = 1200 # The max length of the sequence to be generated. Between 0 and infinity. Default to 20.\n",
        "\n",
        "model_args.sliding_window = Falses\n",
        "\n",
        "\n",
        "# Training with sliding window\n",
        "\n",
        "\n"
      ],
      "execution_count": null,
      "outputs": []
    },
    {
      "cell_type": "code",
      "metadata": {
        "id": "yZtG6joNnRyg",
        "colab": {
          "base_uri": "https://localhost:8080/",
          "height": 439,
          "referenced_widgets": [
            "34ebd5e9270645a383707f097e11a0d1",
            "01e5e3d65f5b4b0387a7ceb0d774e8fc",
            "34442b07f18a4017bfbab8477b61dbe5",
            "ae68b1826c3f4397826abd6d8cc22997",
            "a9bbdb7121c24ef680c171f26ccfc89e",
            "84cecde8150c40228cc5a300fbd513db",
            "bb542bf614d7433d9c983e5911f69de8",
            "6c29bcd448844941a0380ce47cbaf1ce",
            "d08b60e49f4741b8b7be3cd709856791",
            "ec784530084d405abb340d9051309369",
            "3d7cc961c8204bc0a2c16423d9ed2b46",
            "57ce5f95f149469fb22a35aaf415c57d",
            "36db68b1170f4988a8507c3ec18ef947",
            "8cc79b9ec970403983575f3683983aa7",
            "ba574485b83241748e4d7b3c45c0b79e",
            "83cf9294847e4e59822039f3622b1cde",
            "ac68c9dcc5d34b09b071a59f5759b758",
            "4b13585687b845c0bd71f38b749560ee",
            "f8393af9d83d420895d4effeae356035",
            "b4cabe7466dc443db0a555244fbd78d5",
            "05845af52bfe472faa7d7424b45b0e25",
            "ee103ca0c217487fb495d25128d0f9ae",
            "18760a82b3ee4b4a9aadba7808bcb22d",
            "29b391c5f2c44f87aadc30f503577077",
            "cf8ed7e7258147ca9496e19e24bce54d",
            "60d51b6b1c2245fa95ff2aadced05111",
            "4f2b488291164909aa85c5cddc96c9c1",
            "d99a77c507bc4ca79f883ba9274af417",
            "11588cd9b2634d25b4095bec7899c53b",
            "210e5c1b2450471090016de0b2b1217e",
            "8685dd02cd8a43f68ee52f7dbc040f89",
            "d2eae230078342908899e837b7f877bf",
            "5074b48c2e0f47e7b5d3fd1c8343c2c0"
          ]
        },
        "outputId": "409c6941-0a6b-4cf0-9890-5c087561da55"
      },
      "source": [
        "#model_args = ClassificationArgs(num_train_epochs=1, overwrite_output_dir=True, manual_seed=2020)\n",
        "model = ClassificationModel(model_type='roberta', model_name='roberta-base', use_cuda=True, num_labels=2, args=model_args)\n",
        "model.train_model(train)\n"
      ],
      "execution_count": null,
      "outputs": [
        {
          "output_type": "stream",
          "text": [
            "Some weights of the model checkpoint at roberta-base were not used when initializing RobertaForSequenceClassification: ['lm_head.bias', 'lm_head.dense.weight', 'lm_head.dense.bias', 'lm_head.layer_norm.weight', 'lm_head.layer_norm.bias', 'lm_head.decoder.weight']\n",
            "- This IS expected if you are initializing RobertaForSequenceClassification from the checkpoint of a model trained on another task or with another architecture (e.g. initializing a BertForSequenceClassification model from a BertForPreTraining model).\n",
            "- This IS NOT expected if you are initializing RobertaForSequenceClassification from the checkpoint of a model that you expect to be exactly identical (initializing a BertForSequenceClassification model from a BertForSequenceClassification model).\n",
            "Some weights of RobertaForSequenceClassification were not initialized from the model checkpoint at roberta-base and are newly initialized: ['classifier.dense.weight', 'classifier.dense.bias', 'classifier.out_proj.weight', 'classifier.out_proj.bias']\n",
            "You should probably TRAIN this model on a down-stream task to be able to use it for predictions and inference.\n"
          ],
          "name": "stderr"
        },
        {
          "output_type": "display_data",
          "data": {
            "application/vnd.jupyter.widget-view+json": {
              "model_id": "34ebd5e9270645a383707f097e11a0d1",
              "version_minor": 0,
              "version_major": 2
            },
            "text/plain": [
              "HBox(children=(HTML(value=''), FloatProgress(value=0.0, max=16824.0), HTML(value='')))"
            ]
          },
          "metadata": {
            "tags": []
          }
        },
        {
          "output_type": "stream",
          "text": [
            "\n"
          ],
          "name": "stdout"
        },
        {
          "output_type": "display_data",
          "data": {
            "application/vnd.jupyter.widget-view+json": {
              "model_id": "57ce5f95f149469fb22a35aaf415c57d",
              "version_minor": 0,
              "version_major": 2
            },
            "text/plain": [
              "HBox(children=(HTML(value='Epoch'), FloatProgress(value=0.0, max=1.0), HTML(value='')))"
            ]
          },
          "metadata": {
            "tags": []
          }
        },
        {
          "output_type": "stream",
          "text": [
            "\u001b[34m\u001b[1mwandb\u001b[0m: Currently logged in as: \u001b[33mloran_avci\u001b[0m (use `wandb login --relogin` to force relogin)\n"
          ],
          "name": "stderr"
        },
        {
          "output_type": "display_data",
          "data": {
            "text/html": [
              "\n",
              "                Tracking run with wandb version 0.10.11<br/>\n",
              "                Syncing run <strong style=\"color:#cdcd00\">splendid-eon-17</strong> to <a href=\"https://wandb.ai\" target=\"_blank\">Weights & Biases</a> <a href=\"https://docs.wandb.com/integrations/jupyter.html\" target=\"_blank\">(Documentation)</a>.<br/>\n",
              "                Project page: <a href=\"https://wandb.ai/loran_avci/vt1\" target=\"_blank\">https://wandb.ai/loran_avci/vt1</a><br/>\n",
              "                Run page: <a href=\"https://wandb.ai/loran_avci/vt1/runs/2a8aiwg1\" target=\"_blank\">https://wandb.ai/loran_avci/vt1/runs/2a8aiwg1</a><br/>\n",
              "                Run data is saved locally in <code>/content/wandb/run-20201118_223827-2a8aiwg1</code><br/><br/>\n",
              "            "
            ],
            "text/plain": [
              "<IPython.core.display.HTML object>"
            ]
          },
          "metadata": {
            "tags": []
          }
        },
        {
          "output_type": "display_data",
          "data": {
            "application/vnd.jupyter.widget-view+json": {
              "model_id": "18760a82b3ee4b4a9aadba7808bcb22d",
              "version_minor": 0,
              "version_major": 2
            },
            "text/plain": [
              "HBox(children=(HTML(value='Running Epoch 0 of 1'), FloatProgress(value=0.0, max=2103.0), HTML(value='')))"
            ]
          },
          "metadata": {
            "tags": []
          }
        },
        {
          "output_type": "stream",
          "text": [
            "/usr/local/lib/python3.6/dist-packages/torch/optim/lr_scheduler.py:216: UserWarning: Please also save or load the state of the optimizer when saving or loading the scheduler.\n",
            "  warnings.warn(SAVE_STATE_WARNING, UserWarning)\n"
          ],
          "name": "stderr"
        },
        {
          "output_type": "stream",
          "text": [
            "\n",
            "\n"
          ],
          "name": "stdout"
        },
        {
          "output_type": "execute_result",
          "data": {
            "text/plain": [
              "(2103, 0.05343908816512344)"
            ]
          },
          "metadata": {
            "tags": []
          },
          "execution_count": 14
        }
      ]
    },
    {
      "cell_type": "code",
      "metadata": {
        "id": "0XVK7Wy7LkzX",
        "colab": {
          "base_uri": "https://localhost:8080/",
          "height": 792,
          "referenced_widgets": [
            "668d0ab96bd141b285d36ed39166bb26",
            "3afd4f7204c44116999e60c7bba62d66",
            "dc25d9233a9b452aa0520a23c762e92d",
            "83ed95c63b8e459eabab3510166ea786",
            "7effcb5557304abb8b1212bc53e891e3",
            "b0e5eed25c264b21b201b90a8c57e6d3",
            "28c4f1f8eab14ab0830d1f55c8df4369",
            "fb7b6e9b3c214c70975374a9e7322af6",
            "980cd63b295e41efb655e7efcb1be771",
            "7ae913c3cd5d40ecb0936f2148135a6a",
            "7d7bb59ebb2a429282438d8ae70309b8",
            "e46cc442040f4342a0f9e08d086e9ed6",
            "972a9c10cd0d4ebebbc3210e7f1a34b0",
            "6487f2430b8f443cad6849a59cb32366",
            "3e11e43573ab43898de8671bb605f936",
            "c9fda47d6c1a4984891dbca47f3167f4",
            "0364a1bd34944e42802379e302cfac57",
            "f9ab9e3b220748569e3ccd05ff9c5010",
            "a8a7e13a45af461d8dc90dc89dc7bc23",
            "87000abc213c4051954660885c2c2b27",
            "7ab5dc0eb4384b32a82cf308bfa51882",
            "15668ba4539947c0af2d8394d6d1f2ab",
            "0e9dbea01275424a8f27a7fd23fe63e1",
            "7245407170444bce977cd897e2813943",
            "7f8b81d269e54f7fb570d95ae1838f3b",
            "b151731fbb264710a2f39afcc87deb24",
            "41c9449aedd44da487713aabc767ed99",
            "e1666ac7ddf44563a1cf11ffad210298",
            "26f9a3b58b084de1888890d44936624f",
            "95145a20f636420481786aa8317d2f62"
          ]
        },
        "outputId": "86fe8236-9822-4fae-e0b7-64be4c6a7e34"
      },
      "source": [
        "result, model_outputs, wrong_preds = model.eval_model(test)\n",
        "\n"
      ],
      "execution_count": null,
      "outputs": [
        {
          "output_type": "display_data",
          "data": {
            "application/vnd.jupyter.widget-view+json": {
              "model_id": "668d0ab96bd141b285d36ed39166bb26",
              "version_minor": 0,
              "version_major": 2
            },
            "text/plain": [
              "HBox(children=(HTML(value=''), FloatProgress(value=0.0, max=4207.0), HTML(value='')))"
            ]
          },
          "metadata": {
            "tags": []
          }
        },
        {
          "output_type": "stream",
          "text": [
            "\n"
          ],
          "name": "stdout"
        },
        {
          "output_type": "display_data",
          "data": {
            "application/vnd.jupyter.widget-view+json": {
              "model_id": "e46cc442040f4342a0f9e08d086e9ed6",
              "version_minor": 0,
              "version_major": 2
            },
            "text/plain": [
              "HBox(children=(HTML(value='Running Evaluation'), FloatProgress(value=0.0, max=526.0), HTML(value='')))"
            ]
          },
          "metadata": {
            "tags": []
          }
        },
        {
          "output_type": "stream",
          "text": [
            "\n"
          ],
          "name": "stdout"
        },
        {
          "output_type": "display_data",
          "data": {
            "text/html": [
              "Finishing last run (ID:2a8aiwg1) before initializing another..."
            ],
            "text/plain": [
              "<IPython.core.display.HTML object>"
            ]
          },
          "metadata": {
            "tags": []
          }
        },
        {
          "output_type": "display_data",
          "data": {
            "text/html": [
              "<br/>Waiting for W&B process to finish, PID 1526<br/>Program ended successfully."
            ],
            "text/plain": [
              "<IPython.core.display.HTML object>"
            ]
          },
          "metadata": {
            "tags": []
          }
        },
        {
          "output_type": "display_data",
          "data": {
            "application/vnd.jupyter.widget-view+json": {
              "model_id": "0e9dbea01275424a8f27a7fd23fe63e1",
              "version_minor": 0,
              "version_major": 2
            },
            "text/plain": [
              "VBox(children=(Label(value=' 0.03MB of 0.03MB uploaded (0.00MB deduped)\\r'), FloatProgress(value=1.0, max=1.0)…"
            ]
          },
          "metadata": {
            "tags": []
          }
        },
        {
          "output_type": "display_data",
          "data": {
            "text/html": [
              "Find user logs for this run at: <code>/content/wandb/run-20201118_223827-2a8aiwg1/logs/debug.log</code>"
            ],
            "text/plain": [
              "<IPython.core.display.HTML object>"
            ]
          },
          "metadata": {
            "tags": []
          }
        },
        {
          "output_type": "display_data",
          "data": {
            "text/html": [
              "Find internal logs for this run at: <code>/content/wandb/run-20201118_223827-2a8aiwg1/logs/debug-internal.log</code>"
            ],
            "text/plain": [
              "<IPython.core.display.HTML object>"
            ]
          },
          "metadata": {
            "tags": []
          }
        },
        {
          "output_type": "display_data",
          "data": {
            "text/html": [
              "<h3>Run summary:</h3><br/><style>\n",
              "    table.wandb td:nth-child(1) { padding: 0 10px; text-align: right }\n",
              "    </style><table class=\"wandb\">\n",
              "<tr><td>Training loss</td><td>0.0004</td></tr><tr><td>lr</td><td>0.0</td></tr><tr><td>global_step</td><td>2100</td></tr><tr><td>_step</td><td>41</td></tr><tr><td>_runtime</td><td>819</td></tr><tr><td>_timestamp</td><td>1605739927</td></tr></table>"
            ],
            "text/plain": [
              "<IPython.core.display.HTML object>"
            ]
          },
          "metadata": {
            "tags": []
          }
        },
        {
          "output_type": "display_data",
          "data": {
            "text/html": [
              "<h3>Run history:</h3><br/><style>\n",
              "    table.wandb td:nth-child(1) { padding: 0 10px; text-align: right }\n",
              "    </style><table class=\"wandb\">\n",
              "<tr><td>Training loss</td><td>▁▁▁▁▁▁▁▁▁▁▁▁▁█▁▁▁▁▁▁▁▁▁▁▁▁▁▁▁▁▁▁▁▁▁▁▁▁▁▁</td></tr><tr><td>lr</td><td>▄▇███▇▇▇▇▇▇▆▆▆▆▆▅▅▅▅▅▄▄▄▄▄▄▃▃▃▃▃▂▂▂▂▂▂▁▁</td></tr><tr><td>global_step</td><td>▁▁▁▂▂▂▂▂▂▃▃▃▃▃▃▄▄▄▄▄▅▅▅▅▅▅▆▆▆▆▆▆▇▇▇▇▇▇██</td></tr><tr><td>_step</td><td>▁▁▁▂▂▂▂▂▂▃▃▃▃▃▃▄▄▄▄▄▅▅▅▅▅▅▆▆▆▆▆▆▇▇▇▇▇▇██</td></tr><tr><td>_runtime</td><td>▁▁▁▂▂▂▂▂▂▃▃▃▃▃▃▄▄▄▄▄▅▅▅▅▅▅▆▆▆▆▆▆▇▇▇▇▇▇██</td></tr><tr><td>_timestamp</td><td>▁▁▁▂▂▂▂▂▂▃▃▃▃▃▃▄▄▄▄▄▅▅▅▅▅▅▆▆▆▆▆▆▇▇▇▇▇▇██</td></tr></table><br/>"
            ],
            "text/plain": [
              "<IPython.core.display.HTML object>"
            ]
          },
          "metadata": {
            "tags": []
          }
        },
        {
          "output_type": "display_data",
          "data": {
            "text/html": [
              "Synced 5 W&B file(s), 1 media file(s), 0 artifact file(s) and 0 other file(s)"
            ],
            "text/plain": [
              "<IPython.core.display.HTML object>"
            ]
          },
          "metadata": {
            "tags": []
          }
        },
        {
          "output_type": "display_data",
          "data": {
            "text/html": [
              "\n",
              "                    <br/>Synced <strong style=\"color:#cdcd00\">splendid-eon-17</strong>: <a href=\"https://wandb.ai/loran_avci/vt1/runs/2a8aiwg1\" target=\"_blank\">https://wandb.ai/loran_avci/vt1/runs/2a8aiwg1</a><br/>\n",
              "                "
            ],
            "text/plain": [
              "<IPython.core.display.HTML object>"
            ]
          },
          "metadata": {
            "tags": []
          }
        },
        {
          "output_type": "display_data",
          "data": {
            "text/html": [
              "...Successfully finished last run (ID:2a8aiwg1). Initializing new run:<br/><br/>"
            ],
            "text/plain": [
              "<IPython.core.display.HTML object>"
            ]
          },
          "metadata": {
            "tags": []
          }
        },
        {
          "output_type": "display_data",
          "data": {
            "text/html": [
              "\n",
              "                Tracking run with wandb version 0.10.11<br/>\n",
              "                Syncing run <strong style=\"color:#cdcd00\">polar-music-18</strong> to <a href=\"https://wandb.ai\" target=\"_blank\">Weights & Biases</a> <a href=\"https://docs.wandb.com/integrations/jupyter.html\" target=\"_blank\">(Documentation)</a>.<br/>\n",
              "                Project page: <a href=\"https://wandb.ai/loran_avci/vt1\" target=\"_blank\">https://wandb.ai/loran_avci/vt1</a><br/>\n",
              "                Run page: <a href=\"https://wandb.ai/loran_avci/vt1/runs/rlf628qw\" target=\"_blank\">https://wandb.ai/loran_avci/vt1/runs/rlf628qw</a><br/>\n",
              "                Run data is saved locally in <code>/content/wandb/run-20201118_225344-rlf628qw</code><br/><br/>\n",
              "            "
            ],
            "text/plain": [
              "<IPython.core.display.HTML object>"
            ]
          },
          "metadata": {
            "tags": []
          }
        }
      ]
    },
    {
      "cell_type": "code",
      "metadata": {
        "id": "2z-wi0IQBOn0",
        "colab": {
          "base_uri": "https://localhost:8080/"
        },
        "outputId": "36629fd1-ed55-466f-fae6-bbeef2794068"
      },
      "source": [
        "from sklearn.metrics import confusion_matrix\n",
        "from sklearn.metrics import roc_auc_score\n",
        "predictions = []\n",
        "\n",
        "for x in model_outputs:\n",
        "    predictions.append(np.argmax(x))\n",
        "\n",
        "print(classification_report(test['labels'], predictions),\"\\n\")\n",
        "print(\"Confusion Matrix: \\n\", confusion_matrix(test['labels'], predictions),\"\\n\")\n",
        "print(\"ROC AUC:\", round(roc_auc_score(test['labels'], predictions),4))"
      ],
      "execution_count": null,
      "outputs": [
        {
          "output_type": "stream",
          "text": [
            "              precision    recall  f1-score   support\n",
            "\n",
            "           0       1.00      1.00      1.00      4130\n",
            "           1       0.88      0.79      0.84        77\n",
            "\n",
            "    accuracy                           0.99      4207\n",
            "   macro avg       0.94      0.90      0.92      4207\n",
            "weighted avg       0.99      0.99      0.99      4207\n",
            " \n",
            "\n",
            "Confusion Matrix: \n",
            " [[4122    8]\n",
            " [  16   61]] \n",
            "\n",
            "ROC AUC: 0.8951\n"
          ],
          "name": "stdout"
        }
      ]
    },
    {
      "cell_type": "code",
      "metadata": {
        "id": "-VNl3ISwE8o-",
        "colab": {
          "base_uri": "https://localhost:8080/"
        },
        "outputId": "f8eaf528-882b-41f1-a61c-dd19d487f41b"
      },
      "source": [
        "result"
      ],
      "execution_count": null,
      "outputs": [
        {
          "output_type": "execute_result",
          "data": {
            "text/plain": [
              "{'eval_loss': 0.037253051087594,\n",
              " 'fn': 16,\n",
              " 'fp': 8,\n",
              " 'mcc': 0.8340200775856744,\n",
              " 'tn': 4122,\n",
              " 'tp': 61}"
            ]
          },
          "metadata": {
            "tags": []
          },
          "execution_count": 20
        }
      ]
    },
    {
      "cell_type": "code",
      "metadata": {
        "id": "sTvhgHqaFPPt",
        "colab": {
          "base_uri": "https://localhost:8080/",
          "height": 810
        },
        "outputId": "385db45e-9a8b-4175-d6cd-dbd24e0db8a0"
      },
      "source": [
        "test['pred'] = predictions\n",
        "test[test['pred'] != test['labels']]"
      ],
      "execution_count": null,
      "outputs": [
        {
          "output_type": "execute_result",
          "data": {
            "text/html": [
              "<div>\n",
              "<style scoped>\n",
              "    .dataframe tbody tr th:only-of-type {\n",
              "        vertical-align: middle;\n",
              "    }\n",
              "\n",
              "    .dataframe tbody tr th {\n",
              "        vertical-align: top;\n",
              "    }\n",
              "\n",
              "    .dataframe thead th {\n",
              "        text-align: right;\n",
              "    }\n",
              "</style>\n",
              "<table border=\"1\" class=\"dataframe\">\n",
              "  <thead>\n",
              "    <tr style=\"text-align: right;\">\n",
              "      <th></th>\n",
              "      <th>text</th>\n",
              "      <th>labels</th>\n",
              "      <th>pred</th>\n",
              "    </tr>\n",
              "  </thead>\n",
              "  <tbody>\n",
              "    <tr>\n",
              "      <th>3661</th>\n",
              "      <td>\"Let's look at the belief-net\" O_K. So that means that I should switch to the other program.</td>\n",
              "      <td>1</td>\n",
              "      <td>0</td>\n",
              "    </tr>\n",
              "    <tr>\n",
              "      <th>3536</th>\n",
              "      <td>Can you maximize the window ?</td>\n",
              "      <td>1</td>\n",
              "      <td>0</td>\n",
              "    </tr>\n",
              "    <tr>\n",
              "      <th>19388</th>\n",
              "      <td>I forget what it'll be, resource management, Wall Street Journal, something. Some - some read task actually, that they're - preparing.</td>\n",
              "      <td>1</td>\n",
              "      <td>0</td>\n",
              "    </tr>\n",
              "    <tr>\n",
              "      <th>3497</th>\n",
              "      <td>O_K. Have a great meeting. I'll - I'll come back up in about an hour and check and see if you're still meeting .</td>\n",
              "      <td>1</td>\n",
              "      <td>0</td>\n",
              "    </tr>\n",
              "    <tr>\n",
              "      <th>7029</th>\n",
              "      <td>I studied Barry's sim code , more or less. to take  the first step the spectral subtraction. and we have some - the feature for Italian database and we will try with this feature with the filter to find the result. But we haven't result until this moment.</td>\n",
              "      <td>0</td>\n",
              "      <td>1</td>\n",
              "    </tr>\n",
              "    <tr>\n",
              "      <th>7461</th>\n",
              "      <td>And, somewhere is my agenda .</td>\n",
              "      <td>1</td>\n",
              "      <td>0</td>\n",
              "    </tr>\n",
              "    <tr>\n",
              "      <th>11906</th>\n",
              "      <td>For one of - one of  .</td>\n",
              "      <td>0</td>\n",
              "      <td>1</td>\n",
              "    </tr>\n",
              "    <tr>\n",
              "      <th>3726</th>\n",
              "      <td>Unmark  Time of Day</td>\n",
              "      <td>0</td>\n",
              "      <td>1</td>\n",
              "    </tr>\n",
              "    <tr>\n",
              "      <th>12749</th>\n",
              "      <td>So let me - let me make a note to do that.</td>\n",
              "      <td>1</td>\n",
              "      <td>0</td>\n",
              "    </tr>\n",
              "    <tr>\n",
              "      <th>15102</th>\n",
              "      <td>What was it that you had done last week when you showed - Do you remember?</td>\n",
              "      <td>1</td>\n",
              "      <td>0</td>\n",
              "    </tr>\n",
              "    <tr>\n",
              "      <th>11025</th>\n",
              "      <td>Yeah, so I would try to somewhat reduce this  .</td>\n",
              "      <td>0</td>\n",
              "      <td>1</td>\n",
              "    </tr>\n",
              "    <tr>\n",
              "      <th>19399</th>\n",
              "      <td>When would they do that?</td>\n",
              "      <td>1</td>\n",
              "      <td>0</td>\n",
              "    </tr>\n",
              "    <tr>\n",
              "      <th>12258</th>\n",
              "      <td>O_K. And you can ask Kevin.</td>\n",
              "      <td>1</td>\n",
              "      <td>0</td>\n",
              "    </tr>\n",
              "    <tr>\n",
              "      <th>2210</th>\n",
              "      <td>I'm not sure about the term .</td>\n",
              "      <td>1</td>\n",
              "      <td>0</td>\n",
              "    </tr>\n",
              "    <tr>\n",
              "      <th>5215</th>\n",
              "      <td>Did I have another topic on the - on the list ?</td>\n",
              "      <td>1</td>\n",
              "      <td>0</td>\n",
              "    </tr>\n",
              "    <tr>\n",
              "      <th>12261</th>\n",
              "      <td>Yeah, the one that uh people seem to use is uh Hugin or whatever? How exp- I don't think it's - Is it free? Because I've seen it advertised in places so I - it seems to -</td>\n",
              "      <td>1</td>\n",
              "      <td>0</td>\n",
              "    </tr>\n",
              "    <tr>\n",
              "      <th>18837</th>\n",
              "      <td>So it's like a scale  probability value.</td>\n",
              "      <td>0</td>\n",
              "      <td>1</td>\n",
              "    </tr>\n",
              "    <tr>\n",
              "      <th>17743</th>\n",
              "      <td>Wait. So you're saying, next Tuesday, is it the whole group meeting, or just us three working on it, or - or - ?</td>\n",
              "      <td>1</td>\n",
              "      <td>0</td>\n",
              "    </tr>\n",
              "    <tr>\n",
              "      <th>7491</th>\n",
              "      <td>Reorganization status .</td>\n",
              "      <td>1</td>\n",
              "      <td>0</td>\n",
              "    </tr>\n",
              "    <tr>\n",
              "      <th>10332</th>\n",
              "      <td>Mmm,  .</td>\n",
              "      <td>0</td>\n",
              "      <td>1</td>\n",
              "    </tr>\n",
              "    <tr>\n",
              "      <th>218</th>\n",
              "      <td>It's at the Hauptstrasse and  gasse.</td>\n",
              "      <td>0</td>\n",
              "      <td>1</td>\n",
              "    </tr>\n",
              "    <tr>\n",
              "      <th>216</th>\n",
              "      <td>O_K.  I can get the address, or if you know where you are, I can tell you how to get there.</td>\n",
              "      <td>0</td>\n",
              "      <td>1</td>\n",
              "    </tr>\n",
              "    <tr>\n",
              "      <th>12226</th>\n",
              "      <td>And, so the current state of things is that, again, starting now, um we'd like to actually get a running belief-net for this particular subdomain done in the next few weeks.</td>\n",
              "      <td>1</td>\n",
              "      <td>0</td>\n",
              "    </tr>\n",
              "    <tr>\n",
              "      <th>19385</th>\n",
              "      <td>Well there's gonna be - it looks like there's gonna be a noisy uh - some large vocabulary noisy stuff too. Somebody's preparing.</td>\n",
              "      <td>1</td>\n",
              "      <td>0</td>\n",
              "    </tr>\n",
              "  </tbody>\n",
              "</table>\n",
              "</div>"
            ],
            "text/plain": [
              "                                                                                                                                                                                                                                                                  text  ...  pred\n",
              "3661                                                                                                                                                                      \"Let's look at the belief-net\" O_K. So that means that I should switch to the other program.  ...     0\n",
              "3536                                                                                                                                                                                                                                     Can you maximize the window ?  ...     0\n",
              "19388                                                                                                                           I forget what it'll be, resource management, Wall Street Journal, something. Some - some read task actually, that they're - preparing.  ...     0\n",
              "3497                                                                                                                                                  O_K. Have a great meeting. I'll - I'll come back up in about an hour and check and see if you're still meeting .  ...     0\n",
              "7029   I studied Barry's sim code , more or less. to take  the first step the spectral subtraction. and we have some - the feature for Italian database and we will try with this feature with the filter to find the result. But we haven't result until this moment.  ...     1\n",
              "7461                                                                                                                                                                                                                                     And, somewhere is my agenda .  ...     0\n",
              "11906                                                                                                                                                                                                                                           For one of - one of  .  ...     1\n",
              "3726                                                                                                                                                                                                                                               Unmark  Time of Day  ...     1\n",
              "12749                                                                                                                                                                                                                       So let me - let me make a note to do that.  ...     0\n",
              "15102                                                                                                                                                                                       What was it that you had done last week when you showed - Do you remember?  ...     0\n",
              "11025                                                                                                                                                                                                                  Yeah, so I would try to somewhat reduce this  .  ...     1\n",
              "19399                                                                                                                                                                                                                                         When would they do that?  ...     0\n",
              "12258                                                                                                                                                                                                                                      O_K. And you can ask Kevin.  ...     0\n",
              "2210                                                                                                                                                                                                                                     I'm not sure about the term .  ...     0\n",
              "5215                                                                                                                                                                                                                   Did I have another topic on the - on the list ?  ...     0\n",
              "12261                                                                                       Yeah, the one that uh people seem to use is uh Hugin or whatever? How exp- I don't think it's - Is it free? Because I've seen it advertised in places so I - it seems to -  ...     0\n",
              "18837                                                                                                                                                                                                                         So it's like a scale  probability value.  ...     1\n",
              "17743                                                                                                                                                 Wait. So you're saying, next Tuesday, is it the whole group meeting, or just us three working on it, or - or - ?  ...     0\n",
              "7491                                                                                                                                                                                                                                           Reorganization status .  ...     0\n",
              "10332                                                                                                                                                                                                                                                          Mmm,  .  ...     1\n",
              "218                                                                                                                                                                                                                               It's at the Hauptstrasse and  gasse.  ...     1\n",
              "216                                                                                                                                                                        O_K.  I can get the address, or if you know where you are, I can tell you how to get there.  ...     1\n",
              "12226                                                                                    And, so the current state of things is that, again, starting now, um we'd like to actually get a running belief-net for this particular subdomain done in the next few weeks.  ...     0\n",
              "19385                                                                                                                                 Well there's gonna be - it looks like there's gonna be a noisy uh - some large vocabulary noisy stuff too. Somebody's preparing.  ...     0\n",
              "\n",
              "[24 rows x 3 columns]"
            ]
          },
          "metadata": {
            "tags": []
          },
          "execution_count": 21
        }
      ]
    },
    {
      "cell_type": "code",
      "metadata": {
        "colab": {
          "base_uri": "https://localhost:8080/",
          "height": 436
        },
        "id": "nf_uN9HzkgB-",
        "outputId": "92108517-97c0-41f6-8a39-7790c0cc33cc"
      },
      "source": [
        "test[test['pred'] ==1]"
      ],
      "execution_count": null,
      "outputs": [
        {
          "output_type": "execute_result",
          "data": {
            "text/html": [
              "<div>\n",
              "<style scoped>\n",
              "    .dataframe tbody tr th:only-of-type {\n",
              "        vertical-align: middle;\n",
              "    }\n",
              "\n",
              "    .dataframe tbody tr th {\n",
              "        vertical-align: top;\n",
              "    }\n",
              "\n",
              "    .dataframe thead th {\n",
              "        text-align: right;\n",
              "    }\n",
              "</style>\n",
              "<table border=\"1\" class=\"dataframe\">\n",
              "  <thead>\n",
              "    <tr style=\"text-align: right;\">\n",
              "      <th></th>\n",
              "      <th>text</th>\n",
              "      <th>labels</th>\n",
              "      <th>pred</th>\n",
              "    </tr>\n",
              "  </thead>\n",
              "  <tbody>\n",
              "    <tr>\n",
              "      <th>16106</th>\n",
              "      <td>The - the  meeting  is  July sixteenth  through  eighteenth  .</td>\n",
              "      <td>1</td>\n",
              "      <td>1</td>\n",
              "    </tr>\n",
              "    <tr>\n",
              "      <th>10947</th>\n",
              "      <td>But, it's after the thresholding.  So, maybe - maybe we might  do it before , yeah .</td>\n",
              "      <td>1</td>\n",
              "      <td>1</td>\n",
              "    </tr>\n",
              "    <tr>\n",
              "      <th>8698</th>\n",
              "      <td>Yeah something like that. Um, uh, you know, maybe - maybe we'll involve  Dan Ellis  at some - some level as well.</td>\n",
              "      <td>1</td>\n",
              "      <td>1</td>\n",
              "    </tr>\n",
              "    <tr>\n",
              "      <th>5804</th>\n",
              "      <td>That was a question that was kind of raised by  Mike Shire's thesis , and on - in that case in terms of  reverberation  .</td>\n",
              "      <td>1</td>\n",
              "      <td>1</td>\n",
              "    </tr>\n",
              "    <tr>\n",
              "      <th>19347</th>\n",
              "      <td>Well actually, so  this is a test that you should do then  .</td>\n",
              "      <td>1</td>\n",
              "      <td>1</td>\n",
              "    </tr>\n",
              "    <tr>\n",
              "      <th>...</th>\n",
              "      <td>...</td>\n",
              "      <td>...</td>\n",
              "      <td>...</td>\n",
              "    </tr>\n",
              "    <tr>\n",
              "      <th>12372</th>\n",
              "      <td>It's  KLEIST  . It's the uh  Bielefeld generation of uh spatial descriptions  and whatever.</td>\n",
              "      <td>1</td>\n",
              "      <td>1</td>\n",
              "    </tr>\n",
              "    <tr>\n",
              "      <th>20378</th>\n",
              "      <td>I could send  Brian   the, um - the transcript  . I know these are - er, uh, I could send him that if it would be possible, or a good idea or not, to try to do a s- forced alignment on what we're - on the way we're encoding overlaps now.</td>\n",
              "      <td>1</td>\n",
              "      <td>1</td>\n",
              "    </tr>\n",
              "    <tr>\n",
              "      <th>8687</th>\n",
              "      <td>DARPA  mee-</td>\n",
              "      <td>1</td>\n",
              "      <td>1</td>\n",
              "    </tr>\n",
              "    <tr>\n",
              "      <th>845</th>\n",
              "      <td>So  I  should still  do that  .</td>\n",
              "      <td>1</td>\n",
              "      <td>1</td>\n",
              "    </tr>\n",
              "    <tr>\n",
              "      <th>4924</th>\n",
              "      <td>There's a  median filtering  and then there's a  piece-wise linear fit , based on some criteria . I'm not sure.</td>\n",
              "      <td>1</td>\n",
              "      <td>1</td>\n",
              "    </tr>\n",
              "  </tbody>\n",
              "</table>\n",
              "<p>69 rows × 3 columns</p>\n",
              "</div>"
            ],
            "text/plain": [
              "                                                                                                                                                                                                                                                 text  ...  pred\n",
              "16106                                                                                                                                                                                  The - the  meeting  is  July sixteenth  through  eighteenth  .  ...     1\n",
              "10947                                                                                                                                                            But, it's after the thresholding.  So, maybe - maybe we might  do it before , yeah .  ...     1\n",
              "8698                                                                                                                                Yeah something like that. Um, uh, you know, maybe - maybe we'll involve  Dan Ellis  at some - some level as well.  ...     1\n",
              "5804                                                                                                                        That was a question that was kind of raised by  Mike Shire's thesis , and on - in that case in terms of  reverberation  .  ...     1\n",
              "19347                                                                                                                                                                                    Well actually, so  this is a test that you should do then  .  ...     1\n",
              "...                                                                                                                                                                                                                                               ...  ...   ...\n",
              "12372                                                                                                                                                     It's  KLEIST  . It's the uh  Bielefeld generation of uh spatial descriptions  and whatever.  ...     1\n",
              "20378   I could send  Brian   the, um - the transcript  . I know these are - er, uh, I could send him that if it would be possible, or a good idea or not, to try to do a s- forced alignment on what we're - on the way we're encoding overlaps now.  ...     1\n",
              "8687                                                                                                                                                                                                                                      DARPA  mee-  ...     1\n",
              "845                                                                                                                                                                                                                   So  I  should still  do that  .  ...     1\n",
              "4924                                                                                                                                  There's a  median filtering  and then there's a  piece-wise linear fit , based on some criteria . I'm not sure.  ...     1\n",
              "\n",
              "[69 rows x 3 columns]"
            ]
          },
          "metadata": {
            "tags": []
          },
          "execution_count": 23
        }
      ]
    }
  ]
}