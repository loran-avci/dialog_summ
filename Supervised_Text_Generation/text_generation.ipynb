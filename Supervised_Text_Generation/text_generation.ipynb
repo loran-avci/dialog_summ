{
  "nbformat": 4,
  "nbformat_minor": 0,
  "metadata": {
    "accelerator": "GPU",
    "colab": {
      "name": "seq2seq",
      "provenance": [],
      "collapsed_sections": []
    },
    "kernelspec": {
      "display_name": "Python 3",
      "name": "python3"
    }
  },
  "cells": [
    {
      "cell_type": "code",
      "metadata": {
        "id": "LFOvKf8IQoP9"
      },
      "source": [
        "!nvidia-smi\n",
        "!kill process_id"
      ],
      "execution_count": null,
      "outputs": []
    },
    {
      "cell_type": "code",
      "metadata": {
        "id": "B_mEUdQPeASc"
      },
      "source": [
        "!pip install transformers\n",
        "!pip install simpletransformers\n",
        "!pip install rouge_metric"
      ],
      "execution_count": null,
      "outputs": []
    },
    {
      "cell_type": "code",
      "metadata": {
        "colab": {
          "base_uri": "https://localhost:8080/"
        },
        "id": "pW9ztf7PGKyF",
        "outputId": "184a19e9-7d57-4c80-ef77-ea1145ffcf95"
      },
      "source": [
        "import logging\n",
        "import pandas as pd\n",
        "from simpletransformers.seq2seq import Seq2SeqModel, Seq2SeqArgs\n",
        "\n",
        "import wandb\n",
        "!wandb login 6fcfd33f292c19c9a44b565ee505839e5381b21e"
      ],
      "execution_count": null,
      "outputs": [
        {
          "output_type": "stream",
          "text": [
            "\u001b[34m\u001b[1mwandb\u001b[0m: Appending key for api.wandb.ai to your netrc file: /root/.netrc\n"
          ],
          "name": "stdout"
        }
      ]
    },
    {
      "cell_type": "code",
      "metadata": {
        "id": "NKt-Cw5e1oXa"
      },
      "source": [
        "import shutil\n",
        "dele = True\n",
        "\n",
        "if dele:\n",
        "  shutil.rmtree('/content/outputs')\n",
        "  shutil.rmtree('/content/runs')\n",
        "  shutil.rmtree('/content/cache_dir')\n",
        "  shutil.rmtree('/content/wandb')\n"
      ],
      "execution_count": null,
      "outputs": []
    },
    {
      "cell_type": "code",
      "metadata": {
        "id": "uaXJqKH_eqHw"
      },
      "source": [
        "\n",
        "df = pd.read_csv(r'/content/data.txt', sep = ';')\n",
        "X = df[\"input_text\"]\n",
        "y = df['target_text']\n",
        "\n"
      ],
      "execution_count": null,
      "outputs": []
    },
    {
      "cell_type": "code",
      "metadata": {
        "colab": {
          "base_uri": "https://localhost:8080/"
        },
        "id": "YnjNUWUL4a21",
        "outputId": "ea974f3f-46c0-4c54-f2dc-20472eecf7b4"
      },
      "source": [
        "l = []\n",
        "\n",
        "for i in (y):\n",
        "  l.append(len(i))\n",
        "\n",
        "import numpy as np\n",
        "print(np.min(l))\n",
        "print(np.median(l))\n",
        "print(np.max(l))"
      ],
      "execution_count": null,
      "outputs": [
        {
          "output_type": "stream",
          "text": [
            "241\n",
            "1043.0\n",
            "3054\n"
          ],
          "name": "stdout"
        }
      ]
    },
    {
      "cell_type": "code",
      "metadata": {
        "id": "HMC_JDY-GQYf"
      },
      "source": [
        "from sklearn.model_selection import train_test_split\n",
        "\n",
        "X_train, X_test, y_train, y_test = train_test_split(X, y, test_size=0.20, random_state=2020 )\n",
        "train = pd.concat([X_train,y_train], axis=1)\n",
        "test = pd.concat([X_test, y_test], axis=1)\n",
        "\n"
      ],
      "execution_count": null,
      "outputs": []
    },
    {
      "cell_type": "code",
      "metadata": {
        "id": "BpMt48YX1-Ee"
      },
      "source": [
        "model_args = Seq2SeqArgs()\n",
        "\n",
        "# Configure the model\n",
        "model_args = Seq2SeqArgs()\n",
        "model_args.num_train_epochs = 15\n",
        "\n",
        "# misc hyperparams\n",
        "model_args.evaluate_generated_text = True\n",
        "model_args.evaluate_during_training = True\n",
        "model_args.evaluate_during_training_verbose = True\n",
        "model_args.overwrite_output_dir = True\n",
        "model_args.save_eval_checkpoints = False\n",
        "model_args.no_save =True\n",
        "model_args.fp16 = False\n",
        "#model_args.best_model_dir = '/content/'\n",
        "model_args.wandb_project = \"vt1-seq2seq\"\n",
        "\n",
        "# numeric hyperparams\n",
        "model_args.max_seq_length = 128 # Maximum sequence length the model will support. docs/usge\n",
        "model_args.max_length = 1024 # The max length of the sequence to be generated. Between 0 and infinity. Default to 20.\n",
        "model_args.num_return_sequences = 1\n",
        "model_args.train_batch_size = 8\n",
        "model_args.eval_batch_size = 8\n",
        "model_args.evaluate_during_training_steps = 2500\n",
        "model_args.learning_rate = 4e-5\n",
        "\n",
        "model_args.sliding_window = True\n",
        "#model_args.do_sample = False\n",
        "#model_args.top_k = 50\n",
        "#model_args.top_p = 0.95\n",
        "\n",
        "\n",
        "# Training with sliding window\n",
        "\n"
      ],
      "execution_count": null,
      "outputs": []
    },
    {
      "cell_type": "code",
      "metadata": {
        "id": "j00hZOhSI6xT"
      },
      "source": [
        "\n",
        "# Configure the model\n",
        "model_args = Seq2SeqArgs()\n",
        "\n",
        "model_args.max_seq_length = 512 # Maximum sequence length the model will support. docs/usge\n",
        "model_args.max_length = 3000 # The max length of the sequence to be generated. Between 0 and infinity. Default to 20.\n",
        "model_args.min_length = 1000 # The max length of the sequence to be generated. Between 0 and infinity. Default to 20.\n",
        "\n",
        "model_args.sliding_window = True\n"
      ],
      "execution_count": null,
      "outputs": []
    },
    {
      "cell_type": "code",
      "metadata": {
        "id": "TENipmsFGG7K"
      },
      "source": [
        "# Initialize model\n",
        "model = Seq2SeqModel(\n",
        "    encoder_decoder_type=\"bart\",\n",
        "    encoder_decoder_name='facebook/bart-large-cnn' ,#\"facebook/bart-base\"\n",
        "    args=model_args\n",
        "    #use_cuda=False,\n",
        ")"
      ],
      "execution_count": null,
      "outputs": []
    },
    {
      "cell_type": "code",
      "metadata": {
        "id": "5jmsv49B6-mZ"
      },
      "source": [
        "# Train the model\n",
        "model.train_model(train_data = train, show_running_loss = True, eval_data = test )\n",
        "# Save model to wandb\n"
      ],
      "execution_count": null,
      "outputs": []
    },
    {
      "cell_type": "code",
      "metadata": {
        "colab": {
          "base_uri": "https://localhost:8080/"
        },
        "id": "56QZJUTHInz1",
        "outputId": "cfa10796-5531-43a1-d028-d2292eaa584d"
      },
      "source": [
        "sample = [train['input_text'][0]]\n",
        "sample"
      ],
      "execution_count": null,
      "outputs": [
        {
          "output_type": "execute_result",
          "data": {
            "text/plain": [
              "[\"Um I'm Craig and I'm User Interface. Yeah. Well, my favourite animal would be a monkey. Then they're small cute and furry, and uh when planet of the apes becomes real, I'm gonna be up there with them. Yeah. I know um My parents went out and bought um remote controls because um they got fed up of having four or five different remote controls for each things the house. So um for them it was just how many devices control. Uh.\\nMm-hmm. Great. And I'm Andrew and I'm uh our marketing expert. Mm-hmm. Mm-hmm. Yeah, that's that's it. Yeah. I will go. That's fine. Alright. So This one here, right? Okay. Very nice. Alright. My favourite animal is like A beagle. Um charac favourite characteristics of it? Is that right? Uh, right, well basically um high priority for any animal for me is that they be willing to take a lot of physical affection from their family. And, yeah that they have lots of personality and uh be fit and in robust good health. So this is blue. Blue beagle. My family's beagle. I coulda told you a whole lot more about beagles. Boy, let me tell you. Impressionist. Alright. Mm. Superb sketch, by the way. Yep. I see a dog in there. Yep. Now I see a rooster. What kind is it? Is he aware that th it's his own cha tail he's chasing? Hmm. Probably when he was little he got lots of attention for doing it and has forever been conditioned. 'Kay. Um, can we just go over that again? Uh, so bas at twel Alright, yeah. Okay. So cost like production cost is twelve fifty, but selling price is is that wholesale or retail? Like on the shelf. Our sale our sale anyway. Yeah, okay okay. Okay. Mm-hmm. Alright. Yes. Mm-hmm. Mm-hmm. Well right away I'm wondering if there's um th th uh, like with D_V_D_ players, if there are zones. Um f frequencies or something um as well as uh characters, um different uh keypad styles and s symbols. Um. I don't know. Yeah. Yeah. Yeah. And then a and then al the other thing international is on top of the price. I'm thinking the price might might appeal to a certain market in one region, whereas in another it'll be different, so Just a chara just a characteristic of the Just Or just like, basic product podi positioning, the twenty five Euro remote control might be a big hit in London, might not be such a big hit in Greece, who knows, something like that, yeah. Yep. Right away I'm making some kind of assumptions about what what information we're given here, thinking, 'kay trendy probably means something other than just basic, something other than just standard. Um so I'm wondering right away, is selling twenty five Euros, is that sort of the thi is this gonna to be like the premium product kinda thing or Uh-huh. Mm-hmm. Yep. Yeah, I'd say so, yeah. No. Yeah, yeah. Mm-hmm. Do we have any other background information on like how that compares to other other Yeah. Mm-hmm. Yeah, interesting thing about discussing um production of a remote control for me is that l as you point out, I just don't think of remote controls as somethin something people consciously assess in their purchasing habits. It's just like getting shoelaces with shoes or something. It just comes along. Do you know what I mean? Like so sort of like how do you I I mean one one way of looking at it would be, well the people producing television sets, maybe they have to buy remote controls. Or another way is maybe people who have T_V_ sets are really fed up with their remote control and they really want a better one or something. But Right. Right. Okay so Right, so in function one of the priorities might be to combine as many uses I think so. Yeah, yeah. Yeah. Well like um, maybe what we could use is a sort of like a example of a successful other piece technology is palm palm pilots. They're gone from being just like little sort of scribble boards to cameras, M_P_ three players, telephones, everything, agenda. So, like, I wonder if we might add something new to the to the remote control market, such as the lighting in your house, or um Yeah, yeah. An Yeah. Like, p personally for me, at home I've I've combined the um the audio video of my television set and my D_V_D_ player and my C_D_ player. So they w all work actually function together but I have different remote controls for each of them. So it's sort of ironic that that then they're in there um you know, the sound and everything it's just one system. But each one's got its own little part. Mm. Mm. Mm. Mm-hmm. Mm-hmm. Yeah. Yeah. That's just really good id Yep. Uh, sure. I remember when the first remote control my my family had was on a cable. Actually had a cable between it and the T_V_ and big like buttons that sort of like, like on a blender or something. And um, you know, when I think about what they are now, it's better, but actually it's still kind of, I dunno, like a massive junky thing on the table. Maybe we could think about how, could be more, you know, streamlined. S Something like that, yeah. Or whatever would be technologically reasonable. 'Cause it could b it could it could be that f it could be that functionally that doesn't make it any better, but that just the appeal of of not having You know, these days there's a r pe things in people's homes are becoming more and more like chic, you know. Um, nicer materials and might be be worth exploring anyway. Okay. Um. Before we wrap up, just to make sure we're all on the same page here, um, do we We were given sort of an example of a coffee machine or something, right? Well, um are we at ma right now on the assumption that our television remote control may have features which go beyond the television? Or are we keeping sort of like a a design commitment to television features? I I don't know. Yep. Yeah, sure. Okay. Okay, yeah. Okay. Okay. Okay. Alright.\\nOkay. Right. Um well this is the kick-off meeting for our our project. Um and um this is just what we're gonna be doing over the next twenty five minutes. Um so first of all, just to kind of make sure that we all know each other, I'm Laura and I'm the project manager. Do you want to introduce yourself again? Okay. Great. Okay. Um so we're designing a new remote control and um Oh I have to record who's here actually. So that's David, Andrew and Craig, isn't it? And you all arrived on time. Um yeah so des uh design a new remote control. Um, as you can see it's supposed to be original, trendy and user friendly. Um so that's kind of our our brief, as it were. Um and so there are three different stages to the design. Um I'm not really sure what what you guys have already received um in your emails. What did you get? Mm-hmm. Is that what everybody got? Okay. Um. So we're gonna have like individual work and then a meeting about it. And repeat that process three times. Um and at this point we get try out the whiteboard over there. Um. So uh you get to draw your favourite animal and sum up your favourite characteristics of it. So who would like to go first? Very good. Mm-hmm. Yeah. Yeah. Right. Lovely. Right. You can take as long over this as you like, because we haven't got an awful lot to discuss. Ok oh we do we do. Don't feel like you're in a rush, anyway. Ach why not We might have to get you up again then. I don't know what mine is. I'm gonna have to think on the spot now. Is that a whale? Ah. Okay. God, I still don't know what I'm gonna write about. Um. I was gonna choose a dog as well. But I'll just draw a different kind of dog. M my favourite animal is my own dog at home. Um That doesn't really look like him, actually. He looks more like a pig, actually. Ah well. Do you? Oh that's very good of you. Uh. Um he's a mixture of uh various things. Um and what do I like about him, um That's just to suggest that his tail wags. Um he's very friendly and cheery and always pleased to see you, and very kind of affectionate and um uh and he's quite quite wee as well so you know he can doesn't take up too much space. Um and uh And he does a funny thing where he chases his tail as well, which is quite amusing, so It is. I think it is. He only does it after he's had his dinner and um he'll just all of a sudden just get up and start chasing his tail 'round the living room. Yeah, so uh Yeah, maybe. Maybe. Right, um where did you find this? Just down here? Yeah. Okay. Um what are we doing next? Uh um. Okay, uh we now need to discuss the project finance. Um so according to the brief um we're gonna be selling this remote control for twenty five Euro, um and we're aiming to make fifty million Euro. Um so we're gonna be selling this on an international scale. And uh we don't want it to cost any more than uh twelve fifty Euros, so fifty percent of the selling price. Sure. All together. Um I dunno. I imagine That's a good question. I imagine it probably is our sale actually because it's probably up to the the um the retailer to uh sell it for whatever price they want. Um. But I I don't know, I mean do you think the fact that it's going to be sold internationally will have a bearing on how we design it at all? Think it will? Um. Hmm. Oh yeah, regions and stuff, yeah. Yeah. Okay. Yeah. Well for a remote control, do you think that will be I suppose it's depends on how complicated our remote control is. Yeah, yeah. Okay. What, just like in terms of like the wealth of the country? Like how much money people have to spend on things like? Aye, I see what you mean, yeah. Marketing. Good marketing thoughts. Oh gosh, I should be writing all this down. Um. Mm. Yeah. Yeah, yeah. Like how much does, you know, a remote control cost. Well twenty five Euro, I mean that's um that's about like eighteen pounds or something, isn't it? Or no, is it as much as that? Sixteen seventeen eighteen pounds. Um, I dunno, I've never bought a remote control, so I don't know how how good a remote control that would get you. Um. But yeah, I suppose it has to look kind of cool and gimmicky. Um right, okay. Let me just scoot on ahead here. Okay. Um well d Does anybody have anything to add to uh to the finance issue at all? Thin No, actually. That would be useful, though, wouldn't it, if you knew like what your money would get you now. Mm-hmm. Yeah, yeah. Oh. Five minutes to end of meeting. Oh, okay. We're a bit behind. Yeah. Right, so do you think that should be like a main design aim of our remote control d you know, do your your satellite and your regular telly and your V_C_R_ and everything? Mm-hmm. Yeah. Or even like, you know, notes about um what you wanna watch. Like you might put in there oh I want to watch such and such and look a Oh that's a good idea. So extra functionalities. Mm-hmm. Hmm. Um okay, uh I'd wel we're gonna have to wrap up pretty quickly in the next couple of minutes. Um I'll just check we've nothing else. Okay. Um so anything else anybody wants to add about what they don't like about remote controls they've used, what they would really like to be part of this new one at all? You keep losing them. Okay. Yeah. W You get those ones where you can, if you like, whistle or make a really high pitched noise they beep. There I mean is that something we'd want to include, do you think? Dunno. Okay maybe. My goodness. Still feels quite primitive. Maybe like a touch screen or something? Okay. Uh-huh, okay. Well I guess that's up to our industrial designer. It looks better. Yeah. Okay. Okay. Right, well um so just to wrap up, the next meeting's gonna be in thirty minutes. So that's about um about ten to twelve by my watch. Um so inbetween now and then, um as the industrial designer, you're gonna be working on you know the actual working design of it so y you know what you're doing there. Um for user interface, technical functions, I guess that's you know like what we've been talking about, what it'll actually do. Um and uh marketing executive, you'll be just thinking about what it actually what, you know, what requirements it has to has to fulfil and you'll all get instructions emailed to you, I guess. Um. Yeah, so it's th the functional design stage is next, I guess. And uh and that's the end of the meeting. So I got that little message a lot sooner than I thought I would, so Mm-hmm. Uh-huh, yeah. Th Okay, well just very quickly 'cause this we're supposed to finish now. Um I guess that's up to us, I mean you probably want some kind of unique selling point of it, so um, you know Yeah. Mm-hmm. Yeah. Okay. Right, okay, we'll that's that's the end of the meeting, then. Um. So, uh thank you all for coming.\\nHi, I'm David and I'm supposed to be an industrial designer. Um, I just got the project announcement about what the project is. Designing a remote control. That's about it, didn't get anything else. Did you get the same thing? Cool. There's too much gear. Okay. Can't draw. Um. Yeah. Um, well anyway, I don't know, it's just the first animal I can think off the top of my head. Um. Yes. Big reason is 'cause I'm allergic to most animals. Allergic to animal fur, so um fish was a natural choice. Um, yeah, and I kind of like whales. They come in and go eat everything in sight. And they're quite harmless and mild and interesting. Tail's a bit big, I think. It's an after dinner dog then. Hmm. It does make sense from maybe the design point of view 'cause you have more complicated characters like European languages, then you need more buttons. So, possibly. Hmm. Yeah. And you keep losing them. Finding them is really a pain, you know. I mean it's usually quite small, or when you want it right, it slipped behind the couch or it's kicked under the table. You know. Yep. Mm-hmm. I think one factor would be production cost. Because there's a cap there, so um depends on how much you can cram into that price. Um. I think that that's the main factor. Cool.\\n\"]"
            ]
          },
          "metadata": {
            "tags": []
          },
          "execution_count": 8
        }
      ]
    },
    {
      "cell_type": "code",
      "metadata": {
        "id": "6u0XrSFUFSgj"
      },
      "source": [
        "p = model.predict(sample)"
      ],
      "execution_count": null,
      "outputs": []
    },
    {
      "cell_type": "code",
      "metadata": {
        "colab": {
          "base_uri": "https://localhost:8080/"
        },
        "id": "-uS3JuL2IdZd",
        "outputId": "129bd267-1347-4fdc-f49b-801fd736f323"
      },
      "source": [
        "p"
      ],
      "execution_count": null,
      "outputs": [
        {
          "output_type": "execute_result",
          "data": {
            "text/plain": [
              "[\"Craig's favourite animal would be a monkey. Andrew's favourite is a beagle. The price of the game is twelve fifty. The cost of production is twelve hundred. The selling price is is that wholesale or retail? Like on the shelf. The game is on sale now.\"]"
            ]
          },
          "metadata": {
            "tags": []
          },
          "execution_count": 11
        }
      ]
    },
    {
      "cell_type": "code",
      "metadata": {
        "id": "Cy1sV_ovIQuG"
      },
      "source": [
        "import numpy as np\n",
        "#np.save(\"weights\", weights)\n",
        "#wandb.save(\"weights.npy\")"
      ],
      "execution_count": null,
      "outputs": []
    },
    {
      "cell_type": "code",
      "metadata": {
        "id": "hEBTdQIf7qAB"
      },
      "source": [
        "import os\n",
        "preds = []\n",
        "preds = model.predict(test['input_text'].tolist())\n",
        "\n"
      ],
      "execution_count": null,
      "outputs": []
    },
    {
      "cell_type": "code",
      "metadata": {
        "id": "Y2PvlnqpJBDD",
        "colab": {
          "base_uri": "https://localhost:8080/",
          "height": 137
        },
        "outputId": "0840a8e1-0f83-4878-f1be-9e2a7aac146e"
      },
      "source": [
        "\n",
        "pred = pd.DataFrame({'preds':preds})\n",
        "#test['target_text']\n",
        "preds[0]"
      ],
      "execution_count": null,
      "outputs": [
        {
          "output_type": "execute_result",
          "data": {
            "application/vnd.google.colaboratory.intrinsic+json": {
              "type": "string"
            },
            "text/plain": [
              "'The project manager opened the meeting by stating that the project manager had instructed the team to prepare a new project requirement. The team then discussed the project budget and the project requirements. The project manager then discussed what features to include in the remote. The group discussed the possibility of adding a shortcut function to the remote, and discussed the option of using a scroll wheel. The marketing expert discussed the options for the remote and the possibility to include a scrollwheel. The industrial designer discussed the internal workings of the remote with the team. The user interface designer discussed how to incorporate a scroll button into the remote design. The Project Manager discussed the requirements of the project and the team decided to include the scroll wheel in the design. '"
            ]
          },
          "metadata": {
            "tags": []
          },
          "execution_count": 13
        }
      ]
    },
    {
      "cell_type": "code",
      "metadata": {
        "colab": {
          "base_uri": "https://localhost:8080/",
          "height": 163
        },
        "id": "C9WY572h1TJi",
        "outputId": "17e3df05-9a16-4f24-ba73-d05eac83f73c"
      },
      "source": [
        "preds"
      ],
      "execution_count": null,
      "outputs": [
        {
          "output_type": "error",
          "ename": "NameError",
          "evalue": "ignored",
          "traceback": [
            "\u001b[0;31m---------------------------------------------------------------------------\u001b[0m",
            "\u001b[0;31mNameError\u001b[0m                                 Traceback (most recent call last)",
            "\u001b[0;32m<ipython-input-14-c66c8509e20f>\u001b[0m in \u001b[0;36m<module>\u001b[0;34m()\u001b[0m\n\u001b[0;32m----> 1\u001b[0;31m \u001b[0mpreds\u001b[0m\u001b[0;34m\u001b[0m\u001b[0;34m\u001b[0m\u001b[0m\n\u001b[0m",
            "\u001b[0;31mNameError\u001b[0m: name 'preds' is not defined"
          ]
        }
      ]
    },
    {
      "cell_type": "code",
      "metadata": {
        "id": "RTPPuJdKmu98"
      },
      "source": [
        "#predictions = []\n",
        "#for i,txt in enumerate(test['input_text']):\n",
        "#  predictions.append(model.predict(txt))\n",
        "#  print(i)"
      ],
      "execution_count": null,
      "outputs": []
    },
    {
      "cell_type": "code",
      "metadata": {
        "id": "TuqAeKFWk_F9"
      },
      "source": [
        "#dfpred = test['target_text']\n",
        "#dfpred['pred'] = preds\n",
        "#dfpred"
      ],
      "execution_count": null,
      "outputs": []
    },
    {
      "cell_type": "code",
      "metadata": {
        "colab": {
          "base_uri": "https://localhost:8080/"
        },
        "id": "4-SpbdX-Ahhf",
        "outputId": "bf9c40ec-066b-4d3d-ad51-f78a14ff63ac"
      },
      "source": [
        "from rouge_metric import PyRouge\n",
        "\n",
        "# Evaluate document-wise ROUGE scores\n",
        "rouge = PyRouge(rouge_n=(1, 2, 3), rouge_l=True, rouge_w=True, rouge_s=True, rouge_su=True, skip_gap=4)\n",
        "scores = rouge.evaluate(test[\"target_text\"], pred['preds'])\n",
        "print(scores)"
      ],
      "execution_count": null,
      "outputs": [
        {
          "output_type": "stream",
          "text": [
            "{'rouge-1': {'r': 0.04879668417644621, 'p': 0.0002589082900096791, 'f': 0.0005150836193408556}, 'rouge-2': {'r': 0.0, 'p': 0.0, 'f': 0.0}, 'rouge-3': {'r': 0.0, 'p': 0.0, 'f': 0.0}, 'rouge-l': {'r': 0.04879668417644621, 'p': 0.0002589082900096791, 'f': 0.0005150836193408556}, 'rouge-w-1.2': {'r': 0.07908719484031634, 'p': 0.0004324366091242205, 'f': 0.0008601699413971202}, 'rouge-s4': {'r': 0.0, 'p': 0.0, 'f': 0.0}, 'rouge-su4': {'r': 0.0, 'p': 0.0, 'f': 0.0}}\n"
          ],
          "name": "stdout"
        }
      ]
    },
    {
      "cell_type": "code",
      "metadata": {
        "colab": {
          "base_uri": "https://localhost:8080/"
        },
        "id": "huwrWhTNTtHa",
        "outputId": "39bc4b97-3e76-4ae5-a5a5-5c4850814b3f"
      },
      "source": [
        "len(train['input_text'][0])"
      ],
      "execution_count": null,
      "outputs": [
        {
          "output_type": "execute_result",
          "data": {
            "text/plain": [
              "13676"
            ]
          },
          "metadata": {
            "tags": []
          },
          "execution_count": 22
        }
      ]
    },
    {
      "cell_type": "code",
      "metadata": {
        "id": "b50aNibpTa96"
      },
      "source": [
        "from transformers import BartTokenizer, BartForConditionalGeneration, BartConfig\n",
        "\n",
        "# see ``examples/summarization/bart/run_eval.py`` for a longer example\n",
        "model = BartForConditionalGeneration.from_pretrained('facebook/bart-large-cnn')\n",
        "tokenizer = BartTokenizer.from_pretrained('facebook/bart-large-cnn')\n",
        "\n",
        "ARTICLE_TO_SUMMARIZE = train['input_text'][0]"
      ],
      "execution_count": null,
      "outputs": []
    },
    {
      "cell_type": "code",
      "metadata": {
        "id": "9UDiWUJ-UD3L"
      },
      "source": [
        "\n",
        "inputs = tokenizer([ARTICLE_TO_SUMMARIZE], max_length=1000, return_tensors='pt')\n",
        "\n",
        "summary_ids = model.generate(inputs['input_ids'], num_beams=4, max_length=1000, early_stopping=True)\n"
      ],
      "execution_count": null,
      "outputs": []
    },
    {
      "cell_type": "code",
      "metadata": {
        "id": "bQdHm0MOVrNp"
      },
      "source": [
        "\n",
        "p = [tokenizer.decode(g, skip_special_tokens=True, clean_up_tokenization_spaces=False) for g in summary_ids]"
      ],
      "execution_count": null,
      "outputs": []
    },
    {
      "cell_type": "code",
      "metadata": {
        "colab": {
          "base_uri": "https://localhost:8080/"
        },
        "id": "6EtIE18HWH1C",
        "outputId": "41d35c55-7bd8-4b16-e440-cf72699e757a"
      },
      "source": [
        "p"
      ],
      "execution_count": null,
      "outputs": [
        {
          "output_type": "execute_result",
          "data": {
            "text/plain": [
              "[\"User Interface is a weekly, offbeat look at what's going on in the world of technology. This week, we look at a new remote control. We'll also hear from our marketing expert about the price of the device. And we'll also look at some of the features that make up the remote.\"]"
            ]
          },
          "metadata": {
            "tags": []
          },
          "execution_count": 29
        }
      ]
    },
    {
      "cell_type": "code",
      "metadata": {
        "id": "0ENyY0AoyK1H"
      },
      "source": [
        "### NEW TRY  !!!!!!!!!!!!!!!"
      ],
      "execution_count": null,
      "outputs": []
    },
    {
      "cell_type": "code",
      "metadata": {
        "colab": {
          "base_uri": "https://localhost:8080/"
        },
        "id": "yun90eb4xjG-",
        "outputId": "c8612382-b25c-4932-d27e-00fc2c482156"
      },
      "source": [
        "# import modules and settings\n",
        "! pip install torch==1.5.0 torchvision==0.6.0 -f https://download.pytorch.org/whl/torch_stable.html\n",
        "! pip install transformers\n",
        "!pip install rouge_metric\n",
        "! pip install py-rouge\n",
        "import pandas as pd\n",
        "import numpy as np\n",
        "import glob\n",
        "import nltk\n",
        "from transformers import BartTokenizer, BartForConditionalGeneration, BartConfig\n",
        "nltk.download('punkt')\n",
        "pd.options.display.max_colwidth =1000\n"
      ],
      "execution_count": null,
      "outputs": [
        {
          "output_type": "stream",
          "text": [
            "Requirement already satisfied: py-rouge in /usr/local/lib/python3.6/dist-packages (1.1)\n",
            "[nltk_data] Downloading package punkt to /root/nltk_data...\n",
            "[nltk_data]   Package punkt is already up-to-date!\n"
          ],
          "name": "stdout"
        }
      ]
    },
    {
      "cell_type": "code",
      "metadata": {
        "id": "z7SwS1m0ujT5"
      },
      "source": [
        "dfinput = pd.read_csv('/content/input_text.txt', sep=';')\n",
        "abstractive = pd.read_csv('/content/abstr_text.txt', sep=';')\n",
        "extractive = pd.read_csv('/content/extractive_text.txt', sep=';')\n",
        "\n",
        "dfinput = dfinput.replace(np.nan, '', regex=True)\n"
      ],
      "execution_count": null,
      "outputs": []
    },
    {
      "cell_type": "code",
      "metadata": {
        "id": "AhKGsZ7h47i5"
      },
      "source": [
        "for i,text in enumerate(dfinput['input_text']):\n",
        "  text = text.replace('Oh.', '')\n",
        "  text = text.replace('Oh', '')\n",
        "  text = text.replace('Uh', '')\n",
        "  text = text.replace('Uh.', '')\n",
        "  text = text.replace('Hmm.', '')\n",
        "  text = text.replace('Mm-hmm.', '')\n",
        "  text = text.replace('Mm', '')\n",
        "  text = text.replace('Mm.', '')\n",
        "  text = text.replace('Um', '')\n",
        "  text = text.replace('Um.', '')\n",
        "  text = text.replace('-huh.', '')\n",
        "  text = text.replace('..', '.')\n",
        "  text = text.replace('. .', '.')\n",
        "  text = text.replace('um', '.')\n",
        "  text = text.replace('uh', '.')\n",
        "  text = text.replace(',', '')\n",
        "  text = text.replace(\"'\", \"\")\n",
        "  text = text.replace('\"', \"\")\n",
        "  dfinput.at[i, 'clean_text'] = text\n"
      ],
      "execution_count": null,
      "outputs": []
    },
    {
      "cell_type": "code",
      "metadata": {
        "id": "Ph6CA8fSyHPg"
      },
      "source": [
        "\n",
        "model = BartForConditionalGeneration.from_pretrained('facebook/bart-large-cnn')\n",
        "tokenizer = BartTokenizer.from_pretrained('facebook/bart-large-cnn')\n",
        "#model = model.to('cuda')\n",
        "#tokenizer = tokenizer.to('cuda')"
      ],
      "execution_count": null,
      "outputs": []
    },
    {
      "cell_type": "code",
      "metadata": {
        "id": "_jALM9hmx2vL"
      },
      "source": [
        "# generate chunks of text \\ sentences <= 1024 tokens\n",
        "def nest_sentences(document):\n",
        "    nested = []\n",
        "    sent = []\n",
        "    length = 0\n",
        "    for sentence in nltk.sent_tokenize(document):\n",
        "        length += len(sentence)\n",
        "        if length < 1024:\n",
        "            sent.append(sentence)\n",
        "        else:\n",
        "            nested.append(sent)\n",
        "            sent = [sentence]\n",
        "            length = len(sentence)\n",
        "    \n",
        "    if sent:\n",
        "        nested.append(sent)\n",
        "    return nested\n"
      ],
      "execution_count": null,
      "outputs": []
    },
    {
      "cell_type": "code",
      "metadata": {
        "id": "zshhES_oyIA7"
      },
      "source": [
        "# generate summary on text with <= 1024 tokens\n",
        "def generate_summary(nested_sentences):\n",
        "    summaries = []\n",
        "    for nested in nested_sentences:\n",
        "        input_tokenized = tokenizer.encode(' '.join(nested),truncation=False, return_tensors='pt')\n",
        "        \n",
        "        summary_ids = model.generate(input_tokenized,\n",
        "                                      min_length=0,\n",
        "                                      max_length=100\n",
        "                                    )\n",
        "        \n",
        "        output = [tokenizer.decode(g, skip_special_tokens=True, clean_up_tokenization_spaces=False) for g in summary_ids]\n",
        "        summaries.append(output)\n",
        "    summaries = [sentence for sublist in summaries for sentence in sublist]\n",
        "    return summaries"
      ],
      "execution_count": null,
      "outputs": []
    },
    {
      "cell_type": "code",
      "metadata": {
        "id": "Vu4sJh1yyRk-"
      },
      "source": [
        "nested = []\n",
        "for i,text in enumerate(dfinput['clean_text']):\n",
        "  nested.append(nest_sentences(text))\n",
        "\n",
        "  \n",
        "dfinput['nested'] = None\n",
        "dfinput['nested'] = nested"
      ],
      "execution_count": null,
      "outputs": []
    },
    {
      "cell_type": "code",
      "metadata": {
        "colab": {
          "base_uri": "https://localhost:8080/"
        },
        "id": "16b4tjgH51aB",
        "outputId": "c284a5c3-8c58-4339-c7d3-4eb8b7f6e27b"
      },
      "source": [
        "dfinput['nested'][48][0]"
      ],
      "execution_count": null,
      "outputs": [
        {
          "output_type": "execute_result",
          "data": {
            "text/plain": [
              "['Hi Im David and Im supposed to be an industrial designer.',\n",
              " 'I just got the project announcement about what the project is.',\n",
              " 'Designing a remote control.',\n",
              " 'Thats about it didnt get anything else.',\n",
              " 'Did you get the same thing?',\n",
              " 'Cool.',\n",
              " 'Theres too much gear.',\n",
              " 'Okay.',\n",
              " 'Cant draw.',\n",
              " 'Yeah.',\n",
              " 'well anyway I dont know its just the first animal I can think off the top of my head.',\n",
              " 'Yes.',\n",
              " 'Big reason is cause Im allergic to most animals.',\n",
              " 'Allergic to animal fur so .',\n",
              " 'fish was a natural choice.',\n",
              " 'yeah and I kind of like whales.',\n",
              " 'They come in and go eat everything in sight.',\n",
              " 'And theyre quite harmless and mild and interesting.',\n",
              " 'Tails a bit big I think.',\n",
              " 'Its an after dinner dog then.',\n",
              " 'It does make sense from maybe the design point of view cause you have more complicated characters like European languages then you need more buttons.',\n",
              " 'So possibly.',\n",
              " 'Yeah.',\n",
              " 'And you keep losing them.',\n",
              " 'Finding them is really a pain you know.',\n",
              " 'I mean its usually quite small or when you want it right it slipped behind the couch or its kicked under the table.',\n",
              " 'You know.',\n",
              " 'Yep.']"
            ]
          },
          "metadata": {
            "tags": []
          },
          "execution_count": 56
        }
      ]
    },
    {
      "cell_type": "code",
      "metadata": {
        "id": "rNcXxxC7H5zk"
      },
      "source": [
        "#dfinput['nest_clean'] = []\n",
        "nest_clean = []\n",
        "for i, text in enumerate(dfinput['nested'][48][0]):\n",
        "    tokens = text.split()\n",
        "    token_cnt = len(tokens)\n",
        "    char_cnt = sum([len(token) for token in tokens])\n",
        "    if (token_cnt > 1):\n",
        "      nest_clean.append(text)\n",
        "\n",
        "      #dfinput.at([i, 'nest_clean']) = text\n",
        "    #print(\"token count = %d, character count = %d,\" %(token_cnt, char_cnt))"
      ],
      "execution_count": null,
      "outputs": []
    },
    {
      "cell_type": "code",
      "metadata": {
        "colab": {
          "base_uri": "https://localhost:8080/"
        },
        "id": "xwUbuLzX723L",
        "outputId": "053844ed-fcb2-4130-9836-cf1c0266faec"
      },
      "source": [
        "nest_clean"
      ],
      "execution_count": null,
      "outputs": [
        {
          "output_type": "execute_result",
          "data": {
            "text/plain": [
              "['Hi Im David and Im supposed to be an industrial designer.',\n",
              " 'I just got the project announcement about what the project is.',\n",
              " 'Designing a remote control.',\n",
              " 'Thats about it didnt get anything else.',\n",
              " 'Did you get the same thing?',\n",
              " 'Theres too much gear.',\n",
              " 'Cant draw.',\n",
              " 'well anyway I dont know its just the first animal I can think off the top of my head.',\n",
              " 'Big reason is cause Im allergic to most animals.',\n",
              " 'Allergic to animal fur so .',\n",
              " 'fish was a natural choice.',\n",
              " 'yeah and I kind of like whales.',\n",
              " 'They come in and go eat everything in sight.',\n",
              " 'And theyre quite harmless and mild and interesting.',\n",
              " 'Tails a bit big I think.',\n",
              " 'Its an after dinner dog then.',\n",
              " 'It does make sense from maybe the design point of view cause you have more complicated characters like European languages then you need more buttons.',\n",
              " 'So possibly.',\n",
              " 'And you keep losing them.',\n",
              " 'Finding them is really a pain you know.',\n",
              " 'I mean its usually quite small or when you want it right it slipped behind the couch or its kicked under the table.',\n",
              " 'You know.']"
            ]
          },
          "metadata": {
            "tags": []
          },
          "execution_count": 64
        }
      ]
    },
    {
      "cell_type": "code",
      "metadata": {
        "id": "uYM3WG4N302A"
      },
      "source": [
        "for word in list(words):  # iterating on a copy since removing will mess things up\n",
        "    if word in stopwords:\n",
        "        words.remove(word)"
      ],
      "execution_count": null,
      "outputs": []
    },
    {
      "cell_type": "code",
      "metadata": {
        "id": "BsosPZ5ZyVtq",
        "colab": {
          "base_uri": "https://localhost:8080/"
        },
        "outputId": "985a0b01-de13-4f43-bf82-25e4e49ff5d8"
      },
      "source": [
        "from datetime import datetime\n",
        "start=datetime.now()\n",
        "\n",
        "sums = []\n",
        "for i,text in enumerate(dfinput['nested'][48:52]): \n",
        "    sums.append(generate_summary(text))\n",
        "\n",
        "print(datetime.now()-start)\n"
      ],
      "execution_count": null,
      "outputs": [
        {
          "output_type": "stream",
          "text": [
            "0:02:44.750495\n"
          ],
          "name": "stdout"
        }
      ]
    },
    {
      "cell_type": "code",
      "metadata": {
        "colab": {
          "base_uri": "https://localhost:8080/"
        },
        "id": "dREMVBaPUhVV",
        "outputId": "4297a5d0-be92-4baf-a353-a65376b938a1"
      },
      "source": [
        "refs = dfinput['clean_text'][48:52]\n",
        "refs.reset_index(drop=True, inplace=True)\n",
        "len(refs[3])"
      ],
      "execution_count": null,
      "outputs": [
        {
          "output_type": "execute_result",
          "data": {
            "text/plain": [
              "5056"
            ]
          },
          "metadata": {
            "tags": []
          },
          "execution_count": 95
        }
      ]
    },
    {
      "cell_type": "code",
      "metadata": {
        "colab": {
          "base_uri": "https://localhost:8080/"
        },
        "id": "J-YuLVvd9xbw",
        "outputId": "839ffb79-23db-4764-df01-8d8d652ef0b6"
      },
      "source": [
        "for i in range(len(sums)):\n",
        "  #single speaker\n",
        "  abrev = []\n",
        "  slen = len(str(sums[i]).split())\n",
        "  reflen = len(refs[i].split())\n",
        "  abrevs = round(100*slen/reflen,0)\n",
        "  abrev.append(abrevs)\n",
        "  print('Summary length ',i , \" :\",slen, \"words \\n\",\n",
        "        'Original length ',i,\" :\", reflen, \"words \\n\",\n",
        "        'in % : ',abrevs, \"\\n\")\n",
        "\n",
        "print('median text summarization per speaker : ',np.median(abrev), \"%\")  \n",
        "sum = sums[0] + sums[1] + sums[2] + sums[3]\n",
        "ref = refs[0] + refs[1] + refs[2] + refs[3]\n",
        "suml= (len(str(sum).split()))\n",
        "refl= (len(str(ref).split()))\n",
        "print('total text summarization :', 100*round(suml/refl, 1), \"%\")"
      ],
      "execution_count": null,
      "outputs": [
        {
          "output_type": "stream",
          "text": [
            "Summary length  0  : 66 words \n",
            " Original length  0  : 224 words \n",
            " in % :  29.0 \n",
            "\n",
            "Summary length  1  : 304 words \n",
            " Original length  1  : 1245 words \n",
            " in % :  24.0 \n",
            "\n",
            "Summary length  2  : 36 words \n",
            " Original length  2  : 80 words \n",
            " in % :  45.0 \n",
            "\n",
            "Summary length  3  : 153 words \n",
            " Original length  3  : 959 words \n",
            " in % :  16.0 \n",
            "\n",
            "median text summarization per speaker :  16.0 %\n",
            "total text summarization : 20.0 %\n"
          ],
          "name": "stdout"
        }
      ]
    },
    {
      "cell_type": "code",
      "metadata": {
        "colab": {
          "base_uri": "https://localhost:8080/",
          "height": 691
        },
        "id": "oxWWbi35xvaA",
        "outputId": "ac934c53-e12b-412c-9567-817782d2efa9"
      },
      "source": [
        "dfinput[48:52]"
      ],
      "execution_count": null,
      "outputs": [
        {
          "output_type": "execute_result",
          "data": {
            "text/html": [
              "<div>\n",
              "<style scoped>\n",
              "    .dataframe tbody tr th:only-of-type {\n",
              "        vertical-align: middle;\n",
              "    }\n",
              "\n",
              "    .dataframe tbody tr th {\n",
              "        vertical-align: top;\n",
              "    }\n",
              "\n",
              "    .dataframe thead th {\n",
              "        text-align: right;\n",
              "    }\n",
              "</style>\n",
              "<table border=\"1\" class=\"dataframe\">\n",
              "  <thead>\n",
              "    <tr style=\"text-align: right;\">\n",
              "      <th></th>\n",
              "      <th>id</th>\n",
              "      <th>speaker</th>\n",
              "      <th>input_text</th>\n",
              "    </tr>\n",
              "  </thead>\n",
              "  <tbody>\n",
              "    <tr>\n",
              "      <th>48</th>\n",
              "      <td>ES2002a</td>\n",
              "      <td>A</td>\n",
              "      <td>Hi, I'm David and I'm supposed to be an industrial designer. Um, I just got the project announcement about what the project is. Designing a remote control. That's about it, didn't get anything else. Did you get the same thing? Cool. There's too much gear. Okay. Can't draw. Um. Yeah. Um, well anyway, I don't know, it's just the first animal I can think off the top of my head. Um. Yes. Big reason is 'cause I'm allergic to most animals. Allergic to animal fur, so um fish was a natural choice. Um, yeah, and I kind of like whales. They come in and go eat everything in sight. And they're quite harmless and mild and interesting. Tail's a bit big, I think. It's an after dinner dog then. Hmm. It does make sense from maybe the design point of view 'cause you have more complicated characters like European languages, then you need more buttons. So, possibly. Hmm. Yeah. And you keep losing them. Finding them is really a pain, you know. I mean it's usually quite small, or when you want it right,...</td>\n",
              "    </tr>\n",
              "    <tr>\n",
              "      <th>49</th>\n",
              "      <td>ES2002a</td>\n",
              "      <td>B</td>\n",
              "      <td>Okay. Right. Um well this is the kick-off meeting for our our project. Um and um this is just what we're gonna be doing over the next twenty five minutes. Um so first of all, just to kind of make sure that we all know each other, I'm Laura and I'm the project manager. Do you want to introduce yourself again? Okay. Great. Okay. Um so we're designing a new remote control and um Oh I have to record who's here actually. So that's David, Andrew and Craig, isn't it? And you all arrived on time. Um yeah so des uh design a new remote control. Um, as you can see it's supposed to be original, trendy and user friendly. Um so that's kind of our our brief, as it were. Um and so there are three different stages to the design. Um I'm not really sure what what you guys have already received um in your emails. What did you get? Mm-hmm. Is that what everybody got? Okay. Um. So we're gonna have like individual work and then a meeting about it. And repeat that process three times. Um and at this point...</td>\n",
              "    </tr>\n",
              "    <tr>\n",
              "      <th>50</th>\n",
              "      <td>ES2002a</td>\n",
              "      <td>C</td>\n",
              "      <td>Um I'm Craig and I'm User Interface. Yeah. Well, my favourite animal would be a monkey. Then they're small cute and furry, and uh when planet of the apes becomes real, I'm gonna be up there with them. Yeah. I know um My parents went out and bought um remote controls because um they got fed up of having four or five different remote controls for each things the house. So um for them it was just how many devices control. Uh.</td>\n",
              "    </tr>\n",
              "    <tr>\n",
              "      <th>51</th>\n",
              "      <td>ES2002a</td>\n",
              "      <td>D</td>\n",
              "      <td>Mm-hmm. Great. And I'm Andrew and I'm uh our marketing expert. Mm-hmm. Mm-hmm. Yeah, that's that's it. Yeah. I will go. That's fine. Alright. So This one here, right? Okay. Very nice. Alright. My favourite animal is like A beagle. Um charac favourite characteristics of it? Is that right? Uh, right, well basically um high priority for any animal for me is that they be willing to take a lot of physical affection from their family. And, yeah that they have lots of personality and uh be fit and in robust good health. So this is blue. Blue beagle. My family's beagle. I coulda told you a whole lot more about beagles. Boy, let me tell you. Impressionist. Alright. Mm. Superb sketch, by the way. Yep. I see a dog in there. Yep. Now I see a rooster. What kind is it? Is he aware that th it's his own cha tail he's chasing? Hmm. Probably when he was little he got lots of attention for doing it and has forever been conditioned. 'Kay. Um, can we just go over that again? Uh, so bas at twel Alright,...</td>\n",
              "    </tr>\n",
              "  </tbody>\n",
              "</table>\n",
              "</div>"
            ],
            "text/plain": [
              "         id  ...                                                                                                                                                                                                                                                                                                                                                                                                                                                                                                                                                                                                                                                                                                                                                                                                                                                                                                                                                                                                                               input_text\n",
              "48  ES2002a  ...  Hi, I'm David and I'm supposed to be an industrial designer. Um, I just got the project announcement about what the project is. Designing a remote control. That's about it, didn't get anything else. Did you get the same thing? Cool. There's too much gear. Okay. Can't draw. Um. Yeah. Um, well anyway, I don't know, it's just the first animal I can think off the top of my head. Um. Yes. Big reason is 'cause I'm allergic to most animals. Allergic to animal fur, so um fish was a natural choice. Um, yeah, and I kind of like whales. They come in and go eat everything in sight. And they're quite harmless and mild and interesting. Tail's a bit big, I think. It's an after dinner dog then. Hmm. It does make sense from maybe the design point of view 'cause you have more complicated characters like European languages, then you need more buttons. So, possibly. Hmm. Yeah. And you keep losing them. Finding them is really a pain, you know. I mean it's usually quite small, or when you want it right,...\n",
              "49  ES2002a  ...  Okay. Right. Um well this is the kick-off meeting for our our project. Um and um this is just what we're gonna be doing over the next twenty five minutes. Um so first of all, just to kind of make sure that we all know each other, I'm Laura and I'm the project manager. Do you want to introduce yourself again? Okay. Great. Okay. Um so we're designing a new remote control and um Oh I have to record who's here actually. So that's David, Andrew and Craig, isn't it? And you all arrived on time. Um yeah so des uh design a new remote control. Um, as you can see it's supposed to be original, trendy and user friendly. Um so that's kind of our our brief, as it were. Um and so there are three different stages to the design. Um I'm not really sure what what you guys have already received um in your emails. What did you get? Mm-hmm. Is that what everybody got? Okay. Um. So we're gonna have like individual work and then a meeting about it. And repeat that process three times. Um and at this point...\n",
              "50  ES2002a  ...                                                                                                                                                                                                                                                                                                                                                                                                                                                                                                                                                                                               Um I'm Craig and I'm User Interface. Yeah. Well, my favourite animal would be a monkey. Then they're small cute and furry, and uh when planet of the apes becomes real, I'm gonna be up there with them. Yeah. I know um My parents went out and bought um remote controls because um they got fed up of having four or five different remote controls for each things the house. So um for them it was just how many devices control. Uh.\n",
              "51  ES2002a  ...  Mm-hmm. Great. And I'm Andrew and I'm uh our marketing expert. Mm-hmm. Mm-hmm. Yeah, that's that's it. Yeah. I will go. That's fine. Alright. So This one here, right? Okay. Very nice. Alright. My favourite animal is like A beagle. Um charac favourite characteristics of it? Is that right? Uh, right, well basically um high priority for any animal for me is that they be willing to take a lot of physical affection from their family. And, yeah that they have lots of personality and uh be fit and in robust good health. So this is blue. Blue beagle. My family's beagle. I coulda told you a whole lot more about beagles. Boy, let me tell you. Impressionist. Alright. Mm. Superb sketch, by the way. Yep. I see a dog in there. Yep. Now I see a rooster. What kind is it? Is he aware that th it's his own cha tail he's chasing? Hmm. Probably when he was little he got lots of attention for doing it and has forever been conditioned. 'Kay. Um, can we just go over that again? Uh, so bas at twel Alright,...\n",
              "\n",
              "[4 rows x 3 columns]"
            ]
          },
          "metadata": {
            "tags": []
          },
          "execution_count": 31
        }
      ]
    },
    {
      "cell_type": "code",
      "metadata": {
        "colab": {
          "base_uri": "https://localhost:8080/"
        },
        "id": "F55Dxy_HGagn",
        "outputId": "71b76cac-03b5-44da-fb71-47ffec717907"
      },
      "source": [
        ""
      ],
      "execution_count": null,
      "outputs": [
        {
          "output_type": "execute_result",
          "data": {
            "text/plain": [
              "['Okay. well this is the kick-off meeting for our our project. and . this is just what were gonna be doing over the next twenty five minutes. so first of all just to kind of make sure that we all know each other Im Laura and Im the project manager. Okay. so were designing a new remote control and . I have to record whos here actually.',\n",
              " 'you get to draw your favourite animal and s. up your favourite characteristics of it. So who would like to go first?',\n",
              " 'And he does a funny thing where he chases his tail as well which is quite amusing so It is. He only does it after hes had his dinner and . hell just all of a sudden just get up and start chasing his tail round the living room. Yeah so . Yeah maybe.',\n",
              " 'Think it will? . yeah regions and stuff yeah. Well for a remote control do you think that will be I suppose its depends on how complicated our remote control is.',\n",
              " 'Yeah yeah. Five minutes to end of meeting. Were a bit behind. Right so do you think that should be like a main design aim of our remote control d you know do your your satellite and your regular telly and your V_C_R_ and everything? Yeah. Or even like you know notes about . what you wanna watch. Like you might put in there oh I want to watch such and such and look a  thats a good idea.',\n",
              " 'Well I guess its up to our industrial designer. It looks better. Okay. So its th the functional design stage is next I guess. And . and thats the end of the meeting.',\n",
              " 'Right okay well thats thats the end of the meeting then. So . thank you all for coming.']"
            ]
          },
          "metadata": {
            "tags": []
          },
          "execution_count": 99
        }
      ]
    },
    {
      "cell_type": "code",
      "metadata": {
        "colab": {
          "base_uri": "https://localhost:8080/",
          "height": 469
        },
        "id": "2aXUm9hMUXSr",
        "outputId": "808b7575-6740-4a74-dd32-3d52acc4ab47"
      },
      "source": [
        "# example\n",
        "sum = (''.join(sum))\n",
        "sum"
      ],
      "execution_count": null,
      "outputs": [
        {
          "output_type": "execute_result",
          "data": {
            "application/vnd.google.colaboratory.intrinsic+json": {
              "type": "string"
            },
            "text/plain": [
              "'Im allergic to animal fur so fish was a natural choice. I kind of like whales. They come in and go eat everything in sight. And theyre quite harmless and mild and interesting.I think one factor would be production cost. Because theres a cap there so . depends on how much you can cram into that price. I think that thats the main factor. Cool.Okay. well this is the kick-off meeting for our our project. and . this is just what were gonna be doing over the next twenty five minutes. so first of all just to kind of make sure that we all know each other Im Laura and Im the project manager. Okay. so were designing a new remote control and . I have to record whos here actually.you get to draw your favourite animal and s. up your favourite characteristics of it. So who would like to go first?And he does a funny thing where he chases his tail as well which is quite amusing so It is. He only does it after hes had his dinner and . hell just all of a sudden just get up and start chasing his tail round the living room. Yeah so . Yeah maybe.Think it will? . yeah regions and stuff yeah. Well for a remote control do you think that will be I suppose its depends on how complicated our remote control is.Yeah yeah. Five minutes to end of meeting. Were a bit behind. Right so do you think that should be like a main design aim of our remote control d you know do your your satellite and your regular telly and your V_C_R_ and everything? Yeah. Or even like you know notes about . what you wanna watch. Like you might put in there oh I want to watch such and such and look a  thats a good idea.Well I guess its up to our industrial designer. It looks better. Okay. So its th the functional design stage is next I guess. And . and thats the end of the meeting.Right okay well thats thats the end of the meeting then. So . thank you all for coming.Im Craig and Im User Interface. Well my favourite animal would be a monkey. Then theyre small cute and furry and . when planet of the apes becomes real Im gonna be up there with them.My favourite animal is like A beagle. charac favourite characteristics of it? Is that right? right well basically . high priority for any animal for me is that they be willing to take a lot of physical affection from their family.Twenty five Euros is that sort of the thi is this gonna to be like the premi.product kinda thing or   Yep. Yeah Id say so yeah. No. Yeah yeah. Do we have any other background information on like how that compares to other other Yeah.Theyre gone from being just like little sort of scribble boards to cameras M_P_ three players telephones everything agenda. So like I wonder if we might add something new to the to the remote control market such as the lighting in your house.Maybe we could think about how could be more you know streamlined. S Something like that yeah. Or whatever would be technologically reasonable.'"
            ]
          },
          "metadata": {
            "tags": []
          },
          "execution_count": 97
        }
      ]
    },
    {
      "cell_type": "code",
      "metadata": {
        "colab": {
          "base_uri": "https://localhost:8080/",
          "height": 191
        },
        "id": "Sm6fpEI4LxyO",
        "outputId": "cd090dac-e596-4b69-ee3d-2baeaa4878b5"
      },
      "source": [
        "extr_sum = extractive.target_text[extractive['ID']=='ES2002a']\n",
        "extr_sum = \"\".join(extr_sum)\n",
        "extr_sum"
      ],
      "execution_count": null,
      "outputs": [
        {
          "output_type": "execute_result",
          "data": {
            "application/vnd.google.colaboratory.intrinsic+json": {
              "type": "string"
            },
            "text/plain": [
              "\"Um well this is the kick-off meeting for our our project . so we're designing a new remote control and um Um , as you can see it's supposed to be original , trendy and user friendly . Um and so there are three different stages to the design . So we're gonna have like individual work and then a meeting about it . And repeat that process three times . So uh you get to draw your favourite animal and sum up your favourite characteristics of it . My favourite animal is like A beagle . Uh , right , well basically um high priority for any animal for me is that they be willing to take a lot of physical affection from their family . And , yeah that they have lots of personality Well Then they're small cute and furry , and I kind of like whales . They come in and go eat everything in sight . M my favourite animal is my own dog at home . Um he's very friendly and cheery and always pleased to see you , Um so according to the brief um we're gonna be selling this remote control for twenty five Euro , And uh we don't want it to cost any more than uh twelve fifty Euros , so fifty percent of the selling price . but selling price is is that wholesale or retail ? I imagine it probably is our sale actually because it's probably up to the the um the retailer to uh sell it for whatever price they want . Um . I mean do you think the fact that it's going to be sold internationally will have a bearing on how we design it at all ? Well right away I'm wondering if there's um th th uh , like with D_V_D_ players , if there are zones . um as well as uh characters , um different uh keypad styles and s symbols . 'cause you have more complicated characters like European languages , then you need more buttons . I'm thinking the price might might appeal to a certain market in one region , whereas in another it'll be different , so thinking , 'kay trendy probably means something other than just basic , Like how much does , you know , a remote control cost . Well twenty five Euro , I mean that's um that's about like eighteen pounds or something , thi is this gonna to be like the premium product kinda thing or so I don't know how how good a remote control that would get you . Um . But yeah , I suppose it has to look kind of cool and gimmicky . I just don't think of remote controls as somethin something people consciously assess in their purchasing habits . I I mean one one way of looking at it would be , well the people producing television sets , maybe they have to buy remote controls . Or another way is maybe people who have T_V_ sets are really fed up with their remote control and they really want a better one or something . My parents went out and bought um remote controls because um they got fed up of having four or five different remote controls for each things the house . So um for them it was just how many devices control . So extra functionalities . So , like , I wonder if we might add something new to the to the remote control market , so in function one of the priorities might be to combine as many uses Right , so do you think that should be like a main design aim of our remote control d you know , do your your satellite and your regular telly and your V_C_R_ and everything ? maybe what we could use is a sort of like a example of a successful other piece technology is palm palm pilots . You keep losing them . W You get those ones where you can , if you like , whistle or make a really high pitched noise they beep . Maybe we could think about how , could be more , you know , streamlined . S Maybe like a touch screen or something ? Or whatever would be technologically reasonable . Um so inbetween now and then , um as the industrial designer , you're gonna be working on you know the actual working design of it Um for user interface , technical functions , Um and uh marketing executive , you'll be just thinking about what it actually what , you know , what requirements it has to has to fulfil Yeah , so it's th the functional design stage is next , I guess . are we at ma right now on the assumption that our television remote control may have features which go beyond the television ? Or are we keeping sort of like a a design commitment to television features ? I think one factor would be production cost . I mean you probably want some kind of unique selling point of it , \""
            ]
          },
          "metadata": {
            "tags": []
          },
          "execution_count": 58
        }
      ]
    },
    {
      "cell_type": "code",
      "metadata": {
        "colab": {
          "base_uri": "https://localhost:8080/",
          "height": 87
        },
        "id": "B7zYY8pyw1im",
        "outputId": "4b15b340-a410-42af-ef6f-63a73026c9c3"
      },
      "source": [
        "abstr_sum = abstractive.target_text[abstractive['ID']=='ES2002a']\n",
        "abstr_sum = \"\".join(abstr_sum)\n",
        "abstr_sum"
      ],
      "execution_count": null,
      "outputs": [
        {
          "output_type": "execute_result",
          "data": {
            "application/vnd.google.colaboratory.intrinsic+json": {
              "type": "string"
            },
            "text/plain": [
              "'The project manager introduced the upcoming project to the team members and then the team members participated in an exercise in which they drew their favorite animal and discussed what they liked about the animal. The project manager talked about the project finances and selling prices. The team then discussed various features to consider in making the remote. '"
            ]
          },
          "metadata": {
            "tags": []
          },
          "execution_count": 59
        }
      ]
    },
    {
      "cell_type": "code",
      "metadata": {
        "colab": {
          "base_uri": "https://localhost:8080/"
        },
        "id": "al1t7ZunvGcM",
        "outputId": "c2e3ddb8-0b7d-4b7a-dd6f-e0f01c23abe6"
      },
      "source": [
        " print(len(sum.split()) ,len(extr_sum.split()),len(abstr_sum.split())) # maxlen = 100:685 , max len = 200: 559 ; seqlen 512 : 1160 \n",
        " "
      ],
      "execution_count": null,
      "outputs": [
        {
          "output_type": "stream",
          "text": [
            "559 868 58\n"
          ],
          "name": "stdout"
        }
      ]
    },
    {
      "cell_type": "code",
      "metadata": {
        "colab": {
          "base_uri": "https://localhost:8080/"
        },
        "id": "ikJOK0l9ratz",
        "outputId": "aa25da57-4873-40cb-80ed-ec082e202578"
      },
      "source": [
        "max_w = max(len(sum.split()) ,len(ref.split()))\n",
        "import rouge\n",
        "\n",
        "def prepare_results(p, r, f):\n",
        "    return '\\t{}:\\t{}: {:5.2f}\\t{}: {:5.2f}\\t{}: {:5.2f}'.format(metric, 'P', 100.0 * p, 'R', 100.0 * r, 'F1', 100.0 * f)\n",
        "\n",
        "\n",
        "for aggregator in [ 'Avg', 'Individual']:\n",
        "    print('Evaluation with {}'.format(aggregator))\n",
        "    apply_avg = aggregator == 'Avg'\n",
        "    apply_best = aggregator == 'Best'\n",
        "\n",
        "    evaluator = rouge.Rouge(metrics=['rouge-n', 'rouge-l', 'rouge-w'],\n",
        "                           max_n=2,\n",
        "                           limit_length=True,\n",
        "                           length_limit=max_w,\n",
        "                           length_limit_type='words',\n",
        "                           apply_avg=apply_avg,\n",
        "                           apply_best=apply_best,\n",
        "                           alpha=0.5, # Default F1_score\n",
        "                           weight_factor=1.2,\n",
        "                           stemming=True)\n",
        "\n",
        "    hypothesis_1 = sum\n",
        "    references_1 = [extr_sum, abstr_sum]\n",
        "\n",
        "\n",
        "    all_hypothesis = [hypothesis_1]\n",
        "    all_references = [references_1]\n",
        "\n",
        "    scores = evaluator.get_scores(all_hypothesis, all_references)\n",
        "\n",
        "    for metric, results in sorted(scores.items(), key=lambda x: x[0]):\n",
        "        if not apply_avg and not apply_best: # value is a type of list as we evaluate each summary vs each reference\n",
        "            for hypothesis_id, results_per_ref in enumerate(results):\n",
        "                nb_references = len(results_per_ref['p'])\n",
        "                for reference_id in range(nb_references):\n",
        "                    print('\\tHypothesis #{} & Reference #{}: '.format(hypothesis_id, reference_id))\n",
        "                    print('\\t' + prepare_results(results_per_ref['p'][reference_id], results_per_ref['r'][reference_id], results_per_ref['f'][reference_id]))\n",
        "            print()\n",
        "        else:\n",
        "            print(prepare_results(results['p'], results['r'], results['f']))\n",
        "    print()"
      ],
      "execution_count": null,
      "outputs": [
        {
          "output_type": "stream",
          "text": [
            "Evaluation with Avg\n",
            "\trouge-1:\tP: 41.72\tR: 56.08\tF1: 47.85\n",
            "\trouge-2:\tP: 22.91\tR: 30.80\tF1: 26.27\n",
            "\trouge-l:\tP: 24.05\tR: 30.77\tF1: 27.00\n",
            "\trouge-w:\tP: 11.52\tR:  3.80\tF1:  5.71\n",
            "\n",
            "Evaluation with Individual\n",
            "\tHypothesis #0 & Reference #0: \n",
            "\t\trouge-1:\tP: 77.30\tR: 55.65\tF1: 64.71\n",
            "\tHypothesis #0 & Reference #1: \n",
            "\t\trouge-1:\tP:  6.14\tR: 62.07\tF1: 11.18\n",
            "\n",
            "\tHypothesis #0 & Reference #0: \n",
            "\t\trouge-2:\tP: 45.30\tR: 32.60\tF1: 37.91\n",
            "\tHypothesis #0 & Reference #1: \n",
            "\t\trouge-2:\tP:  0.51\tR:  5.26\tF1:  0.93\n",
            "\n",
            "\tHypothesis #0 & Reference #0: \n",
            "\t\trouge-l:\tP: 39.63\tR: 30.14\tF1: 34.24\n",
            "\tHypothesis #0 & Reference #1: \n",
            "\t\trouge-l:\tP:  5.74\tR: 39.46\tF1: 10.02\n",
            "\n",
            "\tHypothesis #0 & Reference #0: \n",
            "\t\trouge-w:\tP: 19.38\tR:  3.65\tF1:  6.14\n",
            "\tHypothesis #0 & Reference #1: \n",
            "\t\trouge-w:\tP:  2.16\tR:  9.70\tF1:  3.54\n",
            "\n",
            "\n"
          ],
          "name": "stdout"
        }
      ]
    },
    {
      "cell_type": "code",
      "metadata": {
        "id": "FqY4fmMAyv73"
      },
      "source": [
        ""
      ],
      "execution_count": null,
      "outputs": []
    },
    {
      "cell_type": "code",
      "metadata": {
        "colab": {
          "base_uri": "https://localhost:8080/"
        },
        "id": "witC-1SwzbJ5",
        "outputId": "b915b5b5-6950-461a-df91-fa97c1fa164c"
      },
      "source": [
        "sumdic = { 'A':''.join(sums[0]), 'B':''.join(sums[1]), 'C':''.join(sums[2]), 'D':''.join(sums[3])}\n",
        "sumdic\n",
        "\n"
      ],
      "execution_count": null,
      "outputs": [
        {
          "output_type": "execute_result",
          "data": {
            "text/plain": [
              "{'A': \"David is an industrial designer. His project is to design a remote control. He is allergic to most animals.I think one factor would be production cost. Because there's a cap there, so . depends on how much you can cram into that price. I think that that's the main factor.\",\n",
              " 'B': \"Laura: We're designing a new remote control and . I have to record who's here actually. So we're gonna have like individual work and then a meeting about it. And repeat that process three times.you get to draw your favourite animal and s. up your favourite characteristics of it. So who would like to go first?and . And he does a funny thing where he chases his tail, which is quite amusing, so It is. He only does it after he's had his dinner and . he'll just all of a sudden just get up and start chasing his tail 'round the living room.But I I don't know, I mean do you think the fact that it's going to be sold internationally will have a bearing on how we design it at all? Think it will? . yeah, regions and stuff, yeah.well d Does anybody have anything to add to . to the finance issue at all? Thin No, actually. That would be useful, though, wouldn't it, if you knew like what your money would get you now. Five minutes to end of meeting. We're a bit behind.W You get those ones where you can, if you like, whistle or make a really high pitched noise they beep. There I mean is that something we'd want to include, do you think? Dunno. Okay maybe. My goodness. Still feels quite primitive. Maybe like a touch screen or something?Yeah, so it's th the functional design stage is next, I guess. And . and that's the end of the meeting. So, . thank you all for coming.\",\n",
              " 'C': 'My parents got fed up of having four or five different remote controls for each things the house. So . for them it was just how many devices control.',\n",
              " 'D': \"My favourite animal is like A beagle. charac favourite characteristics of it? Is that right? Well basically . high priority for any animal for me is that they be willing to take a lot of physical affection from their family. And, yeah that they have lots of personality and . be fit and in robust good health.Like on the shelf. Our sale our sale anyway. Yeah. And then a and then al the other thing international is on top of the price.so I'm wondering right away, is selling twenty five Euros, is that sort of the thi is this gonna to be like the premi. product kinda thing or   Yep. Yeah, I'd say so, yeah. No.Yeah. Well like ., maybe what we could use is a sort of like a successful other piece technology is palm palm pilots. They're gone from being just like little sort of scribble boards to cameras, M_P_ three players, telephones, everything.Actually had a cable between it and the T_V_ and big like buttons that sort of like, like on a blender or something. You know, these days there's a r pe things in people's homes are becoming more and more like chic, you know.Or are we keeping sort of like a a design commitment to television features? I I don't know. Yeah, sure. Okay.\"}"
            ]
          },
          "metadata": {
            "tags": []
          },
          "execution_count": 62
        }
      ]
    },
    {
      "cell_type": "code",
      "metadata": {
        "id": "qzaERLp00atL"
      },
      "source": [
        "sumdf = pd.DataFrame.from_dict(sumdic,columns=['summary'], orient='index')\n",
        "sumdf.to_csv(r'/content/summ.txt',sep=' ',mode= 'a' ,index=True, header=True)"
      ],
      "execution_count": null,
      "outputs": []
    },
    {
      "cell_type": "code",
      "metadata": {
        "id": "d8TT3qRU81uO"
      },
      "source": [
        "\n",
        "\n",
        "with open('file.txt', 'w') as file:\n",
        "     file.write(str(sumdic)) # use `json.loads` to do the reverse"
      ],
      "execution_count": null,
      "outputs": []
    }
  ]
}